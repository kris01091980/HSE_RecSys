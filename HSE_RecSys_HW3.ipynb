{
  "cells": [
    {
      "cell_type": "markdown",
      "metadata": {
        "id": "VjzOLgyr8szB"
      },
      "source": [
        "## ДЗ №3 Двухуровневый пайплайн\n",
        "#### В этой домашке вам предстоит написать с нуля двустадийную рекомендательную систему.\n",
        "\n",
        "#### Дата выдачи: 10.03.25\n",
        "\n",
        "#### Мягкий дедлайн: 31.03.25 23:59 MSK\n",
        "\n",
        "#### Жесткий дедлайн: 7.04.25 23:59 MSK"
      ]
    },
    {
      "cell_type": "markdown",
      "metadata": {
        "id": "quuYC2p98szC"
      },
      "source": [
        "### Описание\n",
        "Это творческое задание, в котором вам необходимо реализовать полный цикл построения рекомендательной системы: реализовать кандидат генераторов, придумать и собрать признаки, обучить итоговый ранкер и заинференсить модели на всех пользователей.\n",
        "\n",
        "Вам предоставляется два набора данных: `train.csv` и `test.csv`"
      ]
    },
    {
      "cell_type": "code",
      "source": [
        "# скачиваем данные\n",
        "# если из этой ячейки не получается, то вот ссылка на папку https://drive.google.com/drive/folders/1HT0Apm8Jft0VPLJtdBBUGu9s1M7vZcoJ?usp=drive_link\n",
        "\n",
        "!pip3 install gdown dill"
      ],
      "metadata": {
        "id": "6BvZDJY2AaTa",
        "colab": {
          "base_uri": "https://localhost:8080/"
        },
        "outputId": "86556673-2898-44ab-a0ce-311ba33c2b77"
      },
      "execution_count": null,
      "outputs": [
        {
          "output_type": "stream",
          "name": "stdout",
          "text": [
            "Requirement already satisfied: gdown in /usr/local/lib/python3.11/dist-packages (5.2.0)\n",
            "Collecting dill\n",
            "  Downloading dill-0.3.9-py3-none-any.whl.metadata (10 kB)\n",
            "Requirement already satisfied: beautifulsoup4 in /usr/local/lib/python3.11/dist-packages (from gdown) (4.13.3)\n",
            "Requirement already satisfied: filelock in /usr/local/lib/python3.11/dist-packages (from gdown) (3.18.0)\n",
            "Requirement already satisfied: requests[socks] in /usr/local/lib/python3.11/dist-packages (from gdown) (2.32.3)\n",
            "Requirement already satisfied: tqdm in /usr/local/lib/python3.11/dist-packages (from gdown) (4.67.1)\n",
            "Requirement already satisfied: soupsieve>1.2 in /usr/local/lib/python3.11/dist-packages (from beautifulsoup4->gdown) (2.6)\n",
            "Requirement already satisfied: typing-extensions>=4.0.0 in /usr/local/lib/python3.11/dist-packages (from beautifulsoup4->gdown) (4.12.2)\n",
            "Requirement already satisfied: charset-normalizer<4,>=2 in /usr/local/lib/python3.11/dist-packages (from requests[socks]->gdown) (3.4.1)\n",
            "Requirement already satisfied: idna<4,>=2.5 in /usr/local/lib/python3.11/dist-packages (from requests[socks]->gdown) (3.10)\n",
            "Requirement already satisfied: urllib3<3,>=1.21.1 in /usr/local/lib/python3.11/dist-packages (from requests[socks]->gdown) (2.3.0)\n",
            "Requirement already satisfied: certifi>=2017.4.17 in /usr/local/lib/python3.11/dist-packages (from requests[socks]->gdown) (2025.1.31)\n",
            "Requirement already satisfied: PySocks!=1.5.7,>=1.5.6 in /usr/local/lib/python3.11/dist-packages (from requests[socks]->gdown) (1.7.1)\n",
            "Downloading dill-0.3.9-py3-none-any.whl (119 kB)\n",
            "\u001b[2K   \u001b[90m━━━━━━━━━━━━━━━━━━━━━━━━━━━━━━━━━━━━━━━━\u001b[0m \u001b[32m119.4/119.4 kB\u001b[0m \u001b[31m1.9 MB/s\u001b[0m eta \u001b[36m0:00:00\u001b[0m\n",
            "\u001b[?25hInstalling collected packages: dill\n",
            "Successfully installed dill-0.3.9\n"
          ]
        }
      ]
    },
    {
      "cell_type": "code",
      "execution_count": 6,
      "metadata": {
        "colab": {
          "base_uri": "https://localhost:8080/",
          "height": 192
        },
        "id": "vzK-QIRc8szD",
        "outputId": "2b156f44-d28d-434d-f601-39bfc8008a1f"
      },
      "outputs": [
        {
          "output_type": "stream",
          "name": "stderr",
          "text": [
            "Downloading...\n",
            "From (original): https://drive.google.com/uc?id=1-CcS22-UpTJeNcFlA0dVLrEQn8jnI0d-\n",
            "From (redirected): https://drive.google.com/uc?id=1-CcS22-UpTJeNcFlA0dVLrEQn8jnI0d-&confirm=t&uuid=acf974ed-d672-455f-acf2-f6c19646b1c5\n",
            "To: /content/train.csv\n",
            "100%|██████████| 170M/170M [00:02<00:00, 57.0MB/s]\n",
            "Downloading...\n",
            "From: https://drive.google.com/uc?id=11iz3xDh0IIoEIBY0dyRSvByY3qfiT3BG\n",
            "To: /content/test.csv\n",
            "100%|██████████| 21.1M/21.1M [00:00<00:00, 47.2MB/s]\n"
          ]
        },
        {
          "output_type": "execute_result",
          "data": {
            "text/plain": [
              "'test.csv'"
            ],
            "application/vnd.google.colaboratory.intrinsic+json": {
              "type": "string"
            }
          },
          "metadata": {},
          "execution_count": 6
        }
      ],
      "source": [
        "import gdown\n",
        "# train\n",
        "url = \"https://drive.google.com/file/d/1-CcS22-UpTJeNcFlA0dVLrEQn8jnI0d-/view?usp=drive_link\"\n",
        "output = 'train.csv'\n",
        "gdown.download(url, output, quiet=False, fuzzy=True)\n",
        "\n",
        "# test\n",
        "url = \"https://drive.google.com/file/d/11iz3xDh0IIoEIBY0dyRSvByY3qfiT3BG/view?usp=drive_link\"\n",
        "output = 'test.csv'\n",
        "gdown.download(url, output, quiet=False, fuzzy=True)"
      ]
    },
    {
      "cell_type": "markdown",
      "metadata": {
        "id": "vhapomiR8szD"
      },
      "source": [
        "\n",
        "\n",
        "# 1 Этап. Модели первого уровня. (max 3 балла)\n",
        "В этом этапе вам необходимо разделить `train` датасет на 2 части: для обучения моделей первого уровня и для их валидации. Единственное условие для разбиения – разбивать нужно по времени. Данные для обучение будем называть `train_stage_1`, данные для валидации `valid_stage_1`. Объемы этих датасетов вы определяет самостоятельно.\n",
        "\n",
        "Для начала нам нужно отобрать кандидатов при помощи легких моделей. Необходимо реализовать 3 типа моделей:\n",
        "1. Любая эвристическая(алгоритмичная) модель на ваш выбор **(0.5 балл)**\n",
        "2. Любая матричная факторизация на ваш выбор **(1 балл)**\n",
        "3. Любая нейросетевая модель на ваш выбор **(1 балла)**\n",
        "\n",
        "Не забудьте использовать скор каждой модели, как признак!\n",
        "\n"
      ]
    },
    {
      "cell_type": "markdown",
      "source": [
        "## Библиотеки"
      ],
      "metadata": {
        "id": "aeKc5bcSFW5A"
      }
    },
    {
      "cell_type": "code",
      "source": [
        "import pickle\n",
        "import dill\n",
        "from datetime import datetime, timedelta\n",
        "\n",
        "import numpy as np\n",
        "import pandas as pd\n",
        "\n",
        "import scipy.sparse as sp\n",
        "from scipy.sparse.linalg import svds\n",
        "\n",
        "import tensorflow as tf\n",
        "from tensorflow.keras.models import Model, save_model\n",
        "from tensorflow.keras.layers import Input, Embedding, Flatten, Dense, Concatenate\n",
        "\n",
        "import xgboost as xgb\n",
        "from sklearn.metrics import roc_auc_score\n",
        "from sklearn.metrics.pairwise import cosine_similarity\n",
        "\n",
        "import matplotlib.pyplot as plt\n",
        "import shap\n",
        "\n",
        "from tqdm import tqdm"
      ],
      "metadata": {
        "id": "ZoXU3k-RFZtA"
      },
      "execution_count": 41,
      "outputs": []
    },
    {
      "cell_type": "markdown",
      "source": [
        "## Загрузка данных и разбиение по времени"
      ],
      "metadata": {
        "id": "8gDc3lWYFafp"
      }
    },
    {
      "cell_type": "code",
      "source": [
        "# Загрузка данных\n",
        "train_df = pd.read_csv('train.csv')\n",
        "test_df = pd.read_csv('test.csv')"
      ],
      "metadata": {
        "id": "Nnez7j10GMDi"
      },
      "execution_count": 7,
      "outputs": []
    },
    {
      "cell_type": "code",
      "source": [
        "train_df['last_watch_dt'] = pd.to_datetime(train_df['last_watch_dt'])\n",
        "test_df['last_watch_dt'] = pd.to_datetime(test_df['last_watch_dt'])"
      ],
      "metadata": {
        "id": "12afkqpz8wBY"
      },
      "execution_count": 8,
      "outputs": []
    },
    {
      "cell_type": "code",
      "source": [
        "# Определяем дату разделения (например, 80% данных для обучения, 20% для валидации)\n",
        "split_date = train_df['last_watch_dt'].quantile(0.8)\n",
        "train_stage_1 = train_df[train_df['last_watch_dt'] <= split_date].copy()\n",
        "valid_stage_1 = train_df[train_df['last_watch_dt'] > split_date].copy()"
      ],
      "metadata": {
        "id": "LblgXaxCFcQz"
      },
      "execution_count": 9,
      "outputs": []
    },
    {
      "cell_type": "markdown",
      "source": [
        "## Кандидат-генераторы"
      ],
      "metadata": {
        "id": "viXJnXVQFfYF"
      }
    },
    {
      "cell_type": "code",
      "source": [
        "# 2.1. Эвристическая (алгоритмичная) модель: на основе популярности айтемов\n",
        "class MyHeuristicModel:\n",
        "    def __init__(self, train_data):\n",
        "        # Популярность айтемов – сумма меток target\n",
        "        self.item_popularity = train_data.groupby('item_id')['target'].sum().to_dict()\n",
        "        # Дефолтный скор – среднее значение популярности\n",
        "        self.default_score = np.mean(list(self.item_popularity.values()))\n",
        "        # Предвычисление топ-айтемов (для всех пользователей)\n",
        "        self.top_items = sorted(self.item_popularity.keys(), key=lambda x: self.item_popularity.get(x, 0), reverse=True)\n",
        "\n",
        "    def predict(self, user_id, item_id):\n",
        "        # Если айтем не встречался – возвращаем дефолтное значение\n",
        "        return self.item_popularity.get(item_id, self.default_score)\n",
        "\n",
        "    def recommend(self, user_id, top_k=10):\n",
        "        # Рекомендуем топ-K популярных айтемов\n",
        "        return self.top_items[:top_k]\n",
        "\n",
        "# 2.2. Матричная факторизация на основе SVD\n",
        "class MyMatrixFactorization:\n",
        "    def __init__(self, train_data, n_factors=20):\n",
        "        self.n_factors = n_factors\n",
        "\n",
        "        # Получаем уникальные идентификаторы пользователей и айтемов\n",
        "        self.user_ids = train_data['user_id'].unique()\n",
        "        self.item_ids = train_data['item_id'].unique()\n",
        "        self.user_to_index = {user: idx for idx, user in enumerate(self.user_ids)}\n",
        "        self.item_to_index = {item: idx for idx, item in enumerate(self.item_ids)}\n",
        "\n",
        "        # Преобразуем данные target в тип float\n",
        "        row = train_data['user_id'].map(self.user_to_index).values\n",
        "        col = train_data['item_id'].map(self.item_to_index).values\n",
        "        data = train_data['target'].values.astype(np.float32)  # Приводим к float\n",
        "        shape = (len(self.user_ids), len(self.item_ids))\n",
        "\n",
        "        # Создаем разреженную матрицу\n",
        "        self.user_item_matrix = sp.coo_matrix((data, (row, col)), shape=shape).tocsr()\n",
        "\n",
        "        # Выполняем SVD на разреженной матрице\n",
        "        U, s, Vt = svds(self.user_item_matrix, k=n_factors)\n",
        "        idx = np.argsort(s)[::-1]\n",
        "        self.s = s[idx]\n",
        "        self.U = U[:, idx]\n",
        "        self.Vt = Vt[idx, :]\n",
        "\n",
        "        # Вычисляем латентные факторы\n",
        "        self.user_factors = self.U * self.s\n",
        "        self.item_factors = self.Vt.T  # Транспонированная матрица латентных факторов айтемов\n",
        "\n",
        "        self.default_score = 0.0\n",
        "\n",
        "    def predict(self, user_id, item_id):\n",
        "        if user_id in self.user_to_index and item_id in self.item_to_index:\n",
        "            u_idx = self.user_to_index[user_id]\n",
        "            i_idx = self.item_to_index[item_id]\n",
        "            return np.dot(self.user_factors[u_idx], self.item_factors[i_idx])\n",
        "        else:\n",
        "            return self.default_score\n",
        "\n",
        "    def recommend(self, user_id, top_k=10):\n",
        "        if user_id in self.user_to_index:\n",
        "            u_idx = self.user_to_index[user_id]\n",
        "            scores = np.dot(self.item_factors, self.user_factors[u_idx])\n",
        "            top_indices = np.argsort(scores)[-top_k:][::-1]\n",
        "            return [self.item_ids[i] for i in top_indices]\n",
        "        else:\n",
        "            return list(self.item_ids)[:top_k]\n",
        "\n",
        "# 2.3. Нейросетевая модель на основе Keras\n",
        "class MyNeuralNetwork:\n",
        "    def __init__(self, train_data, embedding_size=10, hidden_units=[32, 16], epochs=5, batch_size=256):\n",
        "        # Получаем уникальные идентификаторы пользователей и айтемов\n",
        "        self.users = train_data['user_id'].unique()\n",
        "        self.items = train_data['item_id'].unique()\n",
        "        self.n_users = len(self.users)\n",
        "        self.n_items = len(self.items)\n",
        "        self.user_to_index = {user: idx for idx, user in enumerate(self.users)}\n",
        "        self.item_to_index = {item: idx for idx, item in enumerate(self.items)}\n",
        "\n",
        "        # Определяем входы модели\n",
        "        user_input = Input(shape=(1,), name='user_input')\n",
        "        item_input = Input(shape=(1,), name='item_input')\n",
        "\n",
        "        # Слои эмбеддингов\n",
        "        user_embedding = Embedding(input_dim=self.n_users, output_dim=embedding_size, name='user_embedding')(user_input)\n",
        "        user_vec = Flatten()(user_embedding)\n",
        "        item_embedding = Embedding(input_dim=self.n_items, output_dim=embedding_size, name='item_embedding')(item_input)\n",
        "        item_vec = Flatten()(item_embedding)\n",
        "\n",
        "        # Конкатенация эмбеддингов\n",
        "        concat = Concatenate()([user_vec, item_vec])\n",
        "        x = concat\n",
        "        # Полносвязные слои\n",
        "        for units in hidden_units:\n",
        "            x = Dense(units, activation='relu')(x)\n",
        "        # Линейный выходной слой – скор релевантности\n",
        "        output = Dense(1, activation='linear')(x)\n",
        "\n",
        "        self.model = Model(inputs=[user_input, item_input], outputs=output)\n",
        "        self.model.compile(optimizer='adam', loss='mse')\n",
        "\n",
        "        # Подготовка обучающих данных\n",
        "        X_user = train_data['user_id'].map(self.user_to_index).values\n",
        "        X_item = train_data['item_id'].map(self.item_to_index).values\n",
        "        y = train_data['target'].values\n",
        "\n",
        "        # Обучение модели\n",
        "        self.model.fit([X_user, X_item], y, epochs=epochs, batch_size=batch_size, verbose=1)\n",
        "        self.default_score = 0.0\n",
        "\n",
        "    def predict(self, user_id, item_id):\n",
        "        if (user_id in self.user_to_index) and (item_id in self.item_to_index):\n",
        "            u = np.array([self.user_to_index[user_id]])\n",
        "            i = np.array([self.item_to_index[item_id]])\n",
        "            score = self.model.predict([u, i], verbose=0)\n",
        "            return score[0][0]\n",
        "        else:\n",
        "            return self.default_score\n",
        "\n",
        "    def recommend(self, user_id, top_k=10):\n",
        "        if user_id in self.user_to_index:\n",
        "            scores = {}\n",
        "            for item in self.items:\n",
        "                scores[item] = self.predict(user_id, item)\n",
        "            top_items = sorted(scores.items(), key=lambda x: x[1], reverse=True)[:top_k]\n",
        "            return [item for item, score in top_items]\n",
        "        else:\n",
        "            return list(self.items)[:top_k]"
      ],
      "metadata": {
        "id": "8n9pzavFFeFI"
      },
      "execution_count": 2,
      "outputs": []
    },
    {
      "cell_type": "markdown",
      "source": [
        "## Метрики качества"
      ],
      "metadata": {
        "id": "6wlSLbkoFijo"
      }
    },
    {
      "cell_type": "code",
      "source": [
        "def rbo(list1, list2, p=0.9):\n",
        "    \"\"\"\n",
        "    Вычисляет Ranked Based Overlap (RBO) между двумя ранжированными списками\n",
        "    \"\"\"\n",
        "    S, T = set(), set()\n",
        "    rbo_sum = 0.0\n",
        "    for d in range(1, max(len(list1), len(list2)) + 1):\n",
        "        if d <= len(list1):\n",
        "            S.add(list1[d-1])\n",
        "        if d <= len(list2):\n",
        "            T.add(list2[d-1])\n",
        "        A_d = len(S.intersection(T))\n",
        "        rbo_sum += A_d / d * (p ** (d-1))\n",
        "    return (1 - p) * rbo_sum\n",
        "\n",
        "def compute_coverage(model, users, all_items, top_k=10):\n",
        "    \"\"\"\n",
        "    Вычисляет долю айтемов, рекомендованных хотя бы одному пользователю\n",
        "    \"\"\"\n",
        "    recommended_items = set()\n",
        "    for user in users:\n",
        "        recommended_items.update(model.recommend(user, top_k))\n",
        "    return len(recommended_items) / len(all_items)\n",
        "\n",
        "def compute_diversity(recommendations, item_embeddings):\n",
        "    \"\"\"\n",
        "    Вычисляет разнообразие списка рекомендаций по косинусному расстоянию между эмбеддингами\n",
        "    Возвращает значение 1 - average_similarity\n",
        "    \"\"\"\n",
        "    if len(recommendations) < 2:\n",
        "        return 0.0\n",
        "    sims = []\n",
        "    for i in range(len(recommendations)):\n",
        "        for j in range(i+1, len(recommendations)):\n",
        "            emb1 = item_embeddings.get(recommendations[i])\n",
        "            emb2 = item_embeddings.get(recommendations[j])\n",
        "            if emb1 is not None and emb2 is not None:\n",
        "                sim = cosine_similarity([emb1], [emb2])[0][0]\n",
        "                sims.append(sim)\n",
        "    avg_sim = np.mean(sims) if sims else 0.0\n",
        "    return 1 - avg_sim"
      ],
      "metadata": {
        "id": "_mehAlIzFkjv"
      },
      "execution_count": 3,
      "outputs": []
    },
    {
      "cell_type": "code",
      "source": [
        "# Инициализация и (при необходимости) обучение моделей\n",
        "my_heuristic_model = MyHeuristicModel(train_stage_1)"
      ],
      "metadata": {
        "id": "pLiSFJYwGhcx"
      },
      "execution_count": 10,
      "outputs": []
    },
    {
      "cell_type": "code",
      "source": [
        "my_matrix_factorization = MyMatrixFactorization(train_stage_1, n_factors=3)"
      ],
      "metadata": {
        "id": "wuhoxZ8jGiR7"
      },
      "execution_count": 11,
      "outputs": []
    },
    {
      "cell_type": "code",
      "source": [
        "my_neural_network = MyNeuralNetwork(train_stage_1, embedding_size=10, hidden_units=[32,16], epochs=5, batch_size=256)"
      ],
      "metadata": {
        "colab": {
          "base_uri": "https://localhost:8080/"
        },
        "id": "Qh77amW2Gjwq",
        "outputId": "de46543a-9d52-4082-cf3e-1d3617ed8bdf"
      },
      "execution_count": 12,
      "outputs": [
        {
          "output_type": "stream",
          "name": "stdout",
          "text": [
            "Epoch 1/5\n",
            "\u001b[1m15392/15392\u001b[0m \u001b[32m━━━━━━━━━━━━━━━━━━━━\u001b[0m\u001b[37m\u001b[0m \u001b[1m74s\u001b[0m 5ms/step - loss: 0.2128\n",
            "Epoch 2/5\n",
            "\u001b[1m15392/15392\u001b[0m \u001b[32m━━━━━━━━━━━━━━━━━━━━\u001b[0m\u001b[37m\u001b[0m \u001b[1m50s\u001b[0m 3ms/step - loss: 0.1672\n",
            "Epoch 3/5\n",
            "\u001b[1m15392/15392\u001b[0m \u001b[32m━━━━━━━━━━━━━━━━━━━━\u001b[0m\u001b[37m\u001b[0m \u001b[1m89s\u001b[0m 4ms/step - loss: 0.1459\n",
            "Epoch 4/5\n",
            "\u001b[1m15392/15392\u001b[0m \u001b[32m━━━━━━━━━━━━━━━━━━━━\u001b[0m\u001b[37m\u001b[0m \u001b[1m53s\u001b[0m 3ms/step - loss: 0.1305\n",
            "Epoch 5/5\n",
            "\u001b[1m15392/15392\u001b[0m \u001b[32m━━━━━━━━━━━━━━━━━━━━\u001b[0m\u001b[37m\u001b[0m \u001b[1m51s\u001b[0m 3ms/step - loss: 0.1195\n"
          ]
        }
      ]
    },
    {
      "cell_type": "code",
      "source": [
        "# Пример использования моделей для пары (user, item)\n",
        "user_example = train_stage_1.iloc[0]['user_id']\n",
        "item_example = train_stage_1.iloc[0]['item_id']\n",
        "\n",
        "score_heuristic = my_heuristic_model.predict(user_example, item_example)\n",
        "score_mf = my_matrix_factorization.predict(user_example, item_example)\n",
        "score_nn = my_neural_network.predict(user_example, item_example)\n",
        "\n",
        "print(\"Heuristic Model Score:\", score_heuristic)\n",
        "print(\"Matrix Factorization Score:\", score_mf)\n",
        "print(\"Neural Network Score:\", score_nn)\n",
        "\n",
        "# Пример: получение рекомендаций для конкретного пользователя (top-10)\n",
        "top_k = 10\n",
        "recs_heuristic = my_heuristic_model.recommend(user_example, top_k=top_k)\n",
        "recs_mf = my_matrix_factorization.recommend(user_example, top_k=top_k)\n",
        "recs_nn = my_neural_network.recommend(user_example, top_k=top_k)\n",
        "\n",
        "print(\"Heuristic Model Recommendations:\", recs_heuristic)\n",
        "print(\"Matrix Factorization Recommendations:\", recs_mf)\n",
        "print(\"Neural Network Recommendations:\", recs_nn)"
      ],
      "metadata": {
        "colab": {
          "base_uri": "https://localhost:8080/"
        },
        "id": "zU87OBmPF-aA",
        "outputId": "91c3725d-2d9b-460e-a067-8f87cbddc8d7"
      },
      "execution_count": null,
      "outputs": [
        {
          "output_type": "stream",
          "name": "stdout",
          "text": [
            "Heuristic Model Score: 301\n",
            "Matrix Factorization Score: 1.1864528e-06\n",
            "Neural Network Score: 0.8355751\n",
            "Heuristic Model Recommendations: [15297, 13865, 10440, 9728, 3734, 4151, 142, 8636, 6809, 11237]\n",
            "Matrix Factorization Recommendations: [np.int64(13865), np.int64(9728), np.int64(15297), np.int64(3734), np.int64(142), np.int64(8636), np.int64(4151), np.int64(11237), np.int64(1844), np.int64(7417)]\n",
            "Neural Network Recommendations: [np.int64(5081), np.int64(4344), np.int64(13168), np.int64(3044), np.int64(4685), np.int64(6072), np.int64(8180), np.int64(15448), np.int64(15517), np.int64(7793)]\n"
          ]
        }
      ]
    },
    {
      "cell_type": "markdown",
      "metadata": {
        "id": "CuaE0we-8szD"
      },
      "source": [
        "Каждая модель должна уметь:\n",
        "1) для пары user_item предсказывать скор релевантности (масштаб скора не важен), важно обработать случаи, когда модель не можеn проскорить пользователя или айтем, вместо этого вернуть какое-то дефолтное значение\n",
        "2) для всех пользователей вернуть top-k самых релевантных айтемов (тут вам скоры не нужны)\n",
        "\n",
        "\n",
        "Дополнительно можно провести анализ кандидат генератов, измерить насколько различные айтемы они рекомендуют, например с помощью таких метрик как: [Ranked based overlap](https://github.com/changyaochen/rbo) или различные вариации [Diversity](https://github.com/MaurizioFD/RecSys2019_DeepLearning_Evaluation/blob/master/Base/Evaluation/metrics.py#L289). **(1 балл)**"
      ]
    },
    {
      "cell_type": "markdown",
      "metadata": {
        "id": "uACHn3ql8szD"
      },
      "source": [
        "\n",
        "# 2 Этап. Генерация и сборка признаков. (max 2 балла)\n",
        "Необходимо собрать минимум 10 осмысленных (`np.radndom.rand()` не подойдет) признаков, при этом:\n",
        "1. 2 должны относиться только к сущности \"пользователь\" (например средний % просмотра фильмов у этой возрастной категории)\n",
        "2. 2 должны относиться только к сущности \"айтем\" (например средний средний % просмотра данного фильма)\n",
        "3. 6 признаков, которые показывают связь пользователя и айтема (например средний % просмотра фильмов с данным актером (айтем) у пользователей с таким же полом (пользователь)).\n",
        "\n",
        "### ВАЖНО!  \n",
        "\n",
        "1. **В датасете есть колонка `watched_prct`. Ее можно использовать для генерации признаков (например сколько пользователь в среднем смотрит фильмы), но нельзя подавать в модель, как отдельную фичу, потому что она напрямую связана с target.**\n",
        "2. **Все признаки должны быть собраны без дата лика, то есть если пользователь посмотрел фильм 10 августа, то признаки мы можем считать только на данных до 9 августа включительно.**\n",
        "\n",
        "\n",
        "### Разбалловка\n",
        "Обучение ранкера будет проходить на `valid_stage_1`, как  раз на которой мы валидировали модели, а тестировать на `test`. Поэтому есть 2 варианта сборки признаков, **реализовать нужно только 1 из них:**\n",
        "1. Для обучения собираем признаки на первый день `valid_stage_1`, а для теста на первый день `test`. Например, если `valid_stage_1` начинается 5 сентября, то все признаки мы можем собирать только по 4 сентября включительно. **(1 балл)**\n",
        "2. Признаки будем собирать честно на каждый день, то есть на 5 сентября собираем с начала до 4, на 6 сентября с начала до 5 и т.д. **(2 балла)**"
      ]
    },
    {
      "cell_type": "markdown",
      "source": [
        "Этап 1: Определяем дату кандидата (первый день valid_stage_1) и пороговую дату (cutoff_date = candidate_day – 1 день). На основе исторических данных до cutoff_date вычисляем агрегированные признаки для пользователей и айтемов.\n",
        "\n",
        "Этап 2: Группируя исторические данные по паре (user, item), вычисляем агрегаты (количество, среднее watched_pct, суммарное время) и на их основе рассчитываем отношения и разницу между агрегированными значениями пользователей и айтемов. Это дает 6 признаков на уровне взаимодействия.\n",
        "\n",
        "Этап 3: Объединяем все рассчитанные признаки с кандидатом (например, valid_stage_1). Таким образом, для каждой пары (user, item) доступны 2 пользовательских, 2 айтемных и 6 взаимодействий – всего 10 признаков. При этом все расчеты выполняются без утечки (используются только данные до cutoff_date)."
      ],
      "metadata": {
        "id": "tCl8vMvrxcFw"
      }
    },
    {
      "cell_type": "markdown",
      "source": [
        "## Сбор признаков для обучения (train_df_with_features)"
      ],
      "metadata": {
        "id": "GQJdAt658-Os"
      }
    },
    {
      "cell_type": "code",
      "source": [
        "# Определяем первый день валидационного этапа (candidate day для обучения)\n",
        "train_candidate_day = valid_stage_1['last_watch_dt'].min()\n",
        "# Чтобы не допустить утечки, используем данные до предыдущего дня\n",
        "cutoff_train = train_candidate_day - timedelta(days=1)\n",
        "print(\"Train candidate day:\", train_candidate_day)\n",
        "print(\"Train features cutoff:\", cutoff_train)"
      ],
      "metadata": {
        "id": "Jpj1NQ0exW1D",
        "colab": {
          "base_uri": "https://localhost:8080/"
        },
        "outputId": "ec109f79-1416-4350-8e14-a216cc4ca9f3"
      },
      "execution_count": 14,
      "outputs": [
        {
          "output_type": "stream",
          "name": "stdout",
          "text": [
            "Train candidate day: 2021-07-27 00:00:00\n",
            "Train features cutoff: 2021-07-26 00:00:00\n"
          ]
        }
      ]
    },
    {
      "cell_type": "code",
      "source": [
        "# Исторические данные для обучения – все записи до cutoff_train\n",
        "historical_train = train_stage_1[train_stage_1['last_watch_dt'] <= cutoff_train].copy()\n",
        "\n",
        "# 1. Признаки для пользователя (2 фичи)\n",
        "user_agg_train = historical_train.groupby('user_id').agg(\n",
        "    user_avg_watched_pct=('watched_pct', 'mean'),\n",
        "    user_interaction_count=('user_id', 'count')\n",
        ").reset_index()\n",
        "\n",
        "# 2. Признаки для айтема (2 фичи)\n",
        "item_agg_train = historical_train.groupby('item_id').agg(\n",
        "    item_avg_watched_pct=('watched_pct', 'mean'),\n",
        "    item_interaction_count=('item_id', 'count')\n",
        ").reset_index()\n",
        "\n",
        "# 3. Признаки для взаимосвязи user-item (6 фичей)\n",
        "ui_agg_train = historical_train.groupby(['user_id', 'item_id']).agg(\n",
        "    ui_interaction_count=('user_id', 'count'),\n",
        "    ui_avg_watched_pct=('watched_pct', 'mean'),\n",
        "    ui_total_dur_sum=('total_dur', 'sum')\n",
        ").reset_index()\n",
        "\n",
        "# Фича: доля взаимодействий данной пары от общего числа взаимодействий пользователя\n",
        "ui_agg_train = ui_agg_train.merge(user_agg_train, on='user_id', how='left')\n",
        "ui_agg_train['ui_ratio_count'] = ui_agg_train['ui_interaction_count'] / ui_agg_train['user_interaction_count']\n",
        "ui_agg_train.drop(columns=['user_interaction_count'], inplace=True)\n",
        "\n",
        "# Фича: разница между средним watched_pct пользователя и айтема\n",
        "ui_agg_train = ui_agg_train.merge(item_agg_train, on='item_id', how='left')\n",
        "ui_agg_train['ui_diff_avg_watched'] = ui_agg_train['user_avg_watched_pct'] - ui_agg_train['item_avg_watched_pct']\n",
        "\n",
        "# Фича: доля суммарного времени просмотра по паре к общему времени просмотра пользователя\n",
        "user_total_dur_train = historical_train.groupby('user_id')['total_dur'].sum().reset_index().rename(\n",
        "    columns={'total_dur': 'user_total_dur_sum'}\n",
        ")\n",
        "ui_agg_train = ui_agg_train.merge(user_total_dur_train, on='user_id', how='left')\n",
        "ui_agg_train['ui_ratio_total_dur'] = ui_agg_train['ui_total_dur_sum'] / ui_agg_train['user_total_dur_sum']\n",
        "\n",
        "# Итоговая выборка для обучения: берем все кандидаты из valid_stage_1 и объединяем с рассчитанными признаками\n",
        "train_df_with_features = valid_stage_1.copy()\n",
        "train_df_with_features = train_df_with_features.merge(user_agg_train, on='user_id', how='left')\n",
        "train_df_with_features = train_df_with_features.merge(item_agg_train, on='item_id', how='left')\n",
        "train_df_with_features = train_df_with_features.merge(\n",
        "    ui_agg_train[['user_id', 'item_id', 'ui_interaction_count', 'ui_avg_watched_pct',\n",
        "                  'ui_total_dur_sum', 'ui_ratio_count', 'ui_diff_avg_watched', 'ui_ratio_total_dur']],\n",
        "    on=['user_id', 'item_id'], how='left'\n",
        ")\n",
        "\n",
        "# Заполним пропуски (например, если для какой-то пары исторических данных нет)\n",
        "train_df_with_features.fillna(0, inplace=True)"
      ],
      "metadata": {
        "id": "0zoRdWaHz8K8"
      },
      "execution_count": 15,
      "outputs": []
    },
    {
      "cell_type": "markdown",
      "source": [
        "## Сбор признаков для теста (test_df_with_features)"
      ],
      "metadata": {
        "id": "ZNd64Ey-88aB"
      }
    },
    {
      "cell_type": "code",
      "source": [
        "# Определяем первый день тестового набора\n",
        "test_candidate_day = test_df['last_watch_dt'].min()\n",
        "# Пороговая дата – день до начала теста, чтобы использовать только доступную историю\n",
        "cutoff_test = test_candidate_day - timedelta(days=1)\n",
        "print(\"Test candidate day:\", test_candidate_day)\n",
        "print(\"Test features cutoff:\", cutoff_test)"
      ],
      "metadata": {
        "id": "30nWtg2n9ArH",
        "colab": {
          "base_uri": "https://localhost:8080/"
        },
        "outputId": "00df1058-11bf-4708-d7d7-8ae245b8f9ba"
      },
      "execution_count": 16,
      "outputs": [
        {
          "output_type": "stream",
          "name": "stdout",
          "text": [
            "Test candidate day: 2021-08-13 00:00:00\n",
            "Test features cutoff: 2021-08-12 00:00:00\n"
          ]
        }
      ]
    },
    {
      "cell_type": "code",
      "source": [
        "# Для теста будем использовать всю историю из train_stage_1 и valid_stage_1, которая до cutoff_test\n",
        "historical_test = pd.concat([train_stage_1, valid_stage_1])\n",
        "historical_test = historical_test[historical_test['last_watch_dt'] <= cutoff_test].copy()\n",
        "\n",
        "# Признаки для пользователя (2 фичи)\n",
        "user_agg_test = historical_test.groupby('user_id').agg(\n",
        "    user_avg_watched_pct=('watched_pct', 'mean'),\n",
        "    user_interaction_count=('user_id', 'count')\n",
        ").reset_index()\n",
        "\n",
        "# Признаки для айтема (2 фичи)\n",
        "item_agg_test = historical_test.groupby('item_id').agg(\n",
        "    item_avg_watched_pct=('watched_pct', 'mean'),\n",
        "    item_interaction_count=('item_id', 'count')\n",
        ").reset_index()\n",
        "\n",
        "# Признаки для взаимосвязи user-item (6 фичей)\n",
        "ui_agg_test = historical_test.groupby(['user_id', 'item_id']).agg(\n",
        "    ui_interaction_count=('user_id', 'count'),\n",
        "    ui_avg_watched_pct=('watched_pct', 'mean'),\n",
        "    ui_total_dur_sum=('total_dur', 'sum')\n",
        ").reset_index()\n",
        "\n",
        "ui_agg_test = ui_agg_test.merge(user_agg_test, on='user_id', how='left')\n",
        "ui_agg_test['ui_ratio_count'] = ui_agg_test['ui_interaction_count'] / ui_agg_test['user_interaction_count']\n",
        "ui_agg_test.drop(columns=['user_interaction_count'], inplace=True)\n",
        "\n",
        "ui_agg_test = ui_agg_test.merge(item_agg_test, on='item_id', how='left')\n",
        "ui_agg_test['ui_diff_avg_watched'] = ui_agg_test['user_avg_watched_pct'] - ui_agg_test['item_avg_watched_pct']\n",
        "\n",
        "user_total_dur_test = historical_test.groupby('user_id')['total_dur'].sum().reset_index().rename(\n",
        "    columns={'total_dur': 'user_total_dur_sum'}\n",
        ")\n",
        "ui_agg_test = ui_agg_test.merge(user_total_dur_test, on='user_id', how='left')\n",
        "ui_agg_test['ui_ratio_total_dur'] = ui_agg_test['ui_total_dur_sum'] / ui_agg_test['user_total_dur_sum']\n",
        "\n",
        "# Итоговая выборка для теста: объединяем кандидатов из test_df с рассчитанными признаками\n",
        "test_df_with_features = test_df.copy()\n",
        "test_df_with_features = test_df_with_features.merge(user_agg_test, on='user_id', how='left')\n",
        "test_df_with_features = test_df_with_features.merge(item_agg_test, on='item_id', how='left')\n",
        "test_df_with_features = test_df_with_features.merge(\n",
        "    ui_agg_test[['user_id', 'item_id', 'ui_interaction_count', 'ui_avg_watched_pct',\n",
        "                 'ui_total_dur_sum', 'ui_ratio_count', 'ui_diff_avg_watched', 'ui_ratio_total_dur']],\n",
        "    on=['user_id', 'item_id'], how='left'\n",
        ")\n",
        "\n",
        "# Заполним пропуски\n",
        "test_df_with_features.fillna(0, inplace=True)"
      ],
      "metadata": {
        "id": "-0Vdfvrg0oVt"
      },
      "execution_count": 17,
      "outputs": []
    },
    {
      "cell_type": "code",
      "source": [
        "train_df_with_features.head()"
      ],
      "metadata": {
        "id": "kpifNGkH82_B",
        "colab": {
          "base_uri": "https://localhost:8080/",
          "height": 226
        },
        "outputId": "ff1699a1-118c-4428-f3b0-0f93603e24bb"
      },
      "execution_count": null,
      "outputs": [
        {
          "output_type": "execute_result",
          "data": {
            "text/plain": [
              "   user_id  item_id last_watch_dt  total_dur  watched_pct  target  \\\n",
              "0  1038054    12356    2021-07-27        197          4.0       0   \n",
              "1   765534    16166    2021-07-27        739         12.0       0   \n",
              "2   799026    14264    2021-07-27       1500         17.0       0   \n",
              "3   297066    16166    2021-07-27       4209         67.0       1   \n",
              "4  1014861     6106    2021-07-27      49790         63.0       1   \n",
              "\n",
              "   user_avg_watched_pct  user_interaction_count  item_avg_watched_pct  \\\n",
              "0              0.000000                     0.0             63.081042   \n",
              "1              0.000000                     1.0             58.331589   \n",
              "2             50.428571                     7.0             59.916101   \n",
              "3             52.000000                     2.0             58.331589   \n",
              "4             76.967742                    31.0             29.115684   \n",
              "\n",
              "   item_interaction_count  ui_interaction_count  ui_avg_watched_pct  \\\n",
              "0                  3492.0                   0.0                 0.0   \n",
              "1                  9361.0                   0.0                 0.0   \n",
              "2                  2503.0                   0.0                 0.0   \n",
              "3                  9361.0                   0.0                 0.0   \n",
              "4                   899.0                   0.0                 0.0   \n",
              "\n",
              "   ui_total_dur_sum  ui_ratio_count  ui_diff_avg_watched  ui_ratio_total_dur  \n",
              "0               0.0             0.0                  0.0                 0.0  \n",
              "1               0.0             0.0                  0.0                 0.0  \n",
              "2               0.0             0.0                  0.0                 0.0  \n",
              "3               0.0             0.0                  0.0                 0.0  \n",
              "4               0.0             0.0                  0.0                 0.0  "
            ],
            "text/html": [
              "\n",
              "  <div id=\"df-926f3837-6aae-40e3-b227-e77b5c4bd2e2\" class=\"colab-df-container\">\n",
              "    <div>\n",
              "<style scoped>\n",
              "    .dataframe tbody tr th:only-of-type {\n",
              "        vertical-align: middle;\n",
              "    }\n",
              "\n",
              "    .dataframe tbody tr th {\n",
              "        vertical-align: top;\n",
              "    }\n",
              "\n",
              "    .dataframe thead th {\n",
              "        text-align: right;\n",
              "    }\n",
              "</style>\n",
              "<table border=\"1\" class=\"dataframe\">\n",
              "  <thead>\n",
              "    <tr style=\"text-align: right;\">\n",
              "      <th></th>\n",
              "      <th>user_id</th>\n",
              "      <th>item_id</th>\n",
              "      <th>last_watch_dt</th>\n",
              "      <th>total_dur</th>\n",
              "      <th>watched_pct</th>\n",
              "      <th>target</th>\n",
              "      <th>user_avg_watched_pct</th>\n",
              "      <th>user_interaction_count</th>\n",
              "      <th>item_avg_watched_pct</th>\n",
              "      <th>item_interaction_count</th>\n",
              "      <th>ui_interaction_count</th>\n",
              "      <th>ui_avg_watched_pct</th>\n",
              "      <th>ui_total_dur_sum</th>\n",
              "      <th>ui_ratio_count</th>\n",
              "      <th>ui_diff_avg_watched</th>\n",
              "      <th>ui_ratio_total_dur</th>\n",
              "    </tr>\n",
              "  </thead>\n",
              "  <tbody>\n",
              "    <tr>\n",
              "      <th>0</th>\n",
              "      <td>1038054</td>\n",
              "      <td>12356</td>\n",
              "      <td>2021-07-27</td>\n",
              "      <td>197</td>\n",
              "      <td>4.0</td>\n",
              "      <td>0</td>\n",
              "      <td>0.000000</td>\n",
              "      <td>0.0</td>\n",
              "      <td>63.081042</td>\n",
              "      <td>3492.0</td>\n",
              "      <td>0.0</td>\n",
              "      <td>0.0</td>\n",
              "      <td>0.0</td>\n",
              "      <td>0.0</td>\n",
              "      <td>0.0</td>\n",
              "      <td>0.0</td>\n",
              "    </tr>\n",
              "    <tr>\n",
              "      <th>1</th>\n",
              "      <td>765534</td>\n",
              "      <td>16166</td>\n",
              "      <td>2021-07-27</td>\n",
              "      <td>739</td>\n",
              "      <td>12.0</td>\n",
              "      <td>0</td>\n",
              "      <td>0.000000</td>\n",
              "      <td>1.0</td>\n",
              "      <td>58.331589</td>\n",
              "      <td>9361.0</td>\n",
              "      <td>0.0</td>\n",
              "      <td>0.0</td>\n",
              "      <td>0.0</td>\n",
              "      <td>0.0</td>\n",
              "      <td>0.0</td>\n",
              "      <td>0.0</td>\n",
              "    </tr>\n",
              "    <tr>\n",
              "      <th>2</th>\n",
              "      <td>799026</td>\n",
              "      <td>14264</td>\n",
              "      <td>2021-07-27</td>\n",
              "      <td>1500</td>\n",
              "      <td>17.0</td>\n",
              "      <td>0</td>\n",
              "      <td>50.428571</td>\n",
              "      <td>7.0</td>\n",
              "      <td>59.916101</td>\n",
              "      <td>2503.0</td>\n",
              "      <td>0.0</td>\n",
              "      <td>0.0</td>\n",
              "      <td>0.0</td>\n",
              "      <td>0.0</td>\n",
              "      <td>0.0</td>\n",
              "      <td>0.0</td>\n",
              "    </tr>\n",
              "    <tr>\n",
              "      <th>3</th>\n",
              "      <td>297066</td>\n",
              "      <td>16166</td>\n",
              "      <td>2021-07-27</td>\n",
              "      <td>4209</td>\n",
              "      <td>67.0</td>\n",
              "      <td>1</td>\n",
              "      <td>52.000000</td>\n",
              "      <td>2.0</td>\n",
              "      <td>58.331589</td>\n",
              "      <td>9361.0</td>\n",
              "      <td>0.0</td>\n",
              "      <td>0.0</td>\n",
              "      <td>0.0</td>\n",
              "      <td>0.0</td>\n",
              "      <td>0.0</td>\n",
              "      <td>0.0</td>\n",
              "    </tr>\n",
              "    <tr>\n",
              "      <th>4</th>\n",
              "      <td>1014861</td>\n",
              "      <td>6106</td>\n",
              "      <td>2021-07-27</td>\n",
              "      <td>49790</td>\n",
              "      <td>63.0</td>\n",
              "      <td>1</td>\n",
              "      <td>76.967742</td>\n",
              "      <td>31.0</td>\n",
              "      <td>29.115684</td>\n",
              "      <td>899.0</td>\n",
              "      <td>0.0</td>\n",
              "      <td>0.0</td>\n",
              "      <td>0.0</td>\n",
              "      <td>0.0</td>\n",
              "      <td>0.0</td>\n",
              "      <td>0.0</td>\n",
              "    </tr>\n",
              "  </tbody>\n",
              "</table>\n",
              "</div>\n",
              "    <div class=\"colab-df-buttons\">\n",
              "\n",
              "  <div class=\"colab-df-container\">\n",
              "    <button class=\"colab-df-convert\" onclick=\"convertToInteractive('df-926f3837-6aae-40e3-b227-e77b5c4bd2e2')\"\n",
              "            title=\"Convert this dataframe to an interactive table.\"\n",
              "            style=\"display:none;\">\n",
              "\n",
              "  <svg xmlns=\"http://www.w3.org/2000/svg\" height=\"24px\" viewBox=\"0 -960 960 960\">\n",
              "    <path d=\"M120-120v-720h720v720H120Zm60-500h600v-160H180v160Zm220 220h160v-160H400v160Zm0 220h160v-160H400v160ZM180-400h160v-160H180v160Zm440 0h160v-160H620v160ZM180-180h160v-160H180v160Zm440 0h160v-160H620v160Z\"/>\n",
              "  </svg>\n",
              "    </button>\n",
              "\n",
              "  <style>\n",
              "    .colab-df-container {\n",
              "      display:flex;\n",
              "      gap: 12px;\n",
              "    }\n",
              "\n",
              "    .colab-df-convert {\n",
              "      background-color: #E8F0FE;\n",
              "      border: none;\n",
              "      border-radius: 50%;\n",
              "      cursor: pointer;\n",
              "      display: none;\n",
              "      fill: #1967D2;\n",
              "      height: 32px;\n",
              "      padding: 0 0 0 0;\n",
              "      width: 32px;\n",
              "    }\n",
              "\n",
              "    .colab-df-convert:hover {\n",
              "      background-color: #E2EBFA;\n",
              "      box-shadow: 0px 1px 2px rgba(60, 64, 67, 0.3), 0px 1px 3px 1px rgba(60, 64, 67, 0.15);\n",
              "      fill: #174EA6;\n",
              "    }\n",
              "\n",
              "    .colab-df-buttons div {\n",
              "      margin-bottom: 4px;\n",
              "    }\n",
              "\n",
              "    [theme=dark] .colab-df-convert {\n",
              "      background-color: #3B4455;\n",
              "      fill: #D2E3FC;\n",
              "    }\n",
              "\n",
              "    [theme=dark] .colab-df-convert:hover {\n",
              "      background-color: #434B5C;\n",
              "      box-shadow: 0px 1px 3px 1px rgba(0, 0, 0, 0.15);\n",
              "      filter: drop-shadow(0px 1px 2px rgba(0, 0, 0, 0.3));\n",
              "      fill: #FFFFFF;\n",
              "    }\n",
              "  </style>\n",
              "\n",
              "    <script>\n",
              "      const buttonEl =\n",
              "        document.querySelector('#df-926f3837-6aae-40e3-b227-e77b5c4bd2e2 button.colab-df-convert');\n",
              "      buttonEl.style.display =\n",
              "        google.colab.kernel.accessAllowed ? 'block' : 'none';\n",
              "\n",
              "      async function convertToInteractive(key) {\n",
              "        const element = document.querySelector('#df-926f3837-6aae-40e3-b227-e77b5c4bd2e2');\n",
              "        const dataTable =\n",
              "          await google.colab.kernel.invokeFunction('convertToInteractive',\n",
              "                                                    [key], {});\n",
              "        if (!dataTable) return;\n",
              "\n",
              "        const docLinkHtml = 'Like what you see? Visit the ' +\n",
              "          '<a target=\"_blank\" href=https://colab.research.google.com/notebooks/data_table.ipynb>data table notebook</a>'\n",
              "          + ' to learn more about interactive tables.';\n",
              "        element.innerHTML = '';\n",
              "        dataTable['output_type'] = 'display_data';\n",
              "        await google.colab.output.renderOutput(dataTable, element);\n",
              "        const docLink = document.createElement('div');\n",
              "        docLink.innerHTML = docLinkHtml;\n",
              "        element.appendChild(docLink);\n",
              "      }\n",
              "    </script>\n",
              "  </div>\n",
              "\n",
              "\n",
              "<div id=\"df-5fac89a7-2ebe-4c2d-a480-a1601d71f562\">\n",
              "  <button class=\"colab-df-quickchart\" onclick=\"quickchart('df-5fac89a7-2ebe-4c2d-a480-a1601d71f562')\"\n",
              "            title=\"Suggest charts\"\n",
              "            style=\"display:none;\">\n",
              "\n",
              "<svg xmlns=\"http://www.w3.org/2000/svg\" height=\"24px\"viewBox=\"0 0 24 24\"\n",
              "     width=\"24px\">\n",
              "    <g>\n",
              "        <path d=\"M19 3H5c-1.1 0-2 .9-2 2v14c0 1.1.9 2 2 2h14c1.1 0 2-.9 2-2V5c0-1.1-.9-2-2-2zM9 17H7v-7h2v7zm4 0h-2V7h2v10zm4 0h-2v-4h2v4z\"/>\n",
              "    </g>\n",
              "</svg>\n",
              "  </button>\n",
              "\n",
              "<style>\n",
              "  .colab-df-quickchart {\n",
              "      --bg-color: #E8F0FE;\n",
              "      --fill-color: #1967D2;\n",
              "      --hover-bg-color: #E2EBFA;\n",
              "      --hover-fill-color: #174EA6;\n",
              "      --disabled-fill-color: #AAA;\n",
              "      --disabled-bg-color: #DDD;\n",
              "  }\n",
              "\n",
              "  [theme=dark] .colab-df-quickchart {\n",
              "      --bg-color: #3B4455;\n",
              "      --fill-color: #D2E3FC;\n",
              "      --hover-bg-color: #434B5C;\n",
              "      --hover-fill-color: #FFFFFF;\n",
              "      --disabled-bg-color: #3B4455;\n",
              "      --disabled-fill-color: #666;\n",
              "  }\n",
              "\n",
              "  .colab-df-quickchart {\n",
              "    background-color: var(--bg-color);\n",
              "    border: none;\n",
              "    border-radius: 50%;\n",
              "    cursor: pointer;\n",
              "    display: none;\n",
              "    fill: var(--fill-color);\n",
              "    height: 32px;\n",
              "    padding: 0;\n",
              "    width: 32px;\n",
              "  }\n",
              "\n",
              "  .colab-df-quickchart:hover {\n",
              "    background-color: var(--hover-bg-color);\n",
              "    box-shadow: 0 1px 2px rgba(60, 64, 67, 0.3), 0 1px 3px 1px rgba(60, 64, 67, 0.15);\n",
              "    fill: var(--button-hover-fill-color);\n",
              "  }\n",
              "\n",
              "  .colab-df-quickchart-complete:disabled,\n",
              "  .colab-df-quickchart-complete:disabled:hover {\n",
              "    background-color: var(--disabled-bg-color);\n",
              "    fill: var(--disabled-fill-color);\n",
              "    box-shadow: none;\n",
              "  }\n",
              "\n",
              "  .colab-df-spinner {\n",
              "    border: 2px solid var(--fill-color);\n",
              "    border-color: transparent;\n",
              "    border-bottom-color: var(--fill-color);\n",
              "    animation:\n",
              "      spin 1s steps(1) infinite;\n",
              "  }\n",
              "\n",
              "  @keyframes spin {\n",
              "    0% {\n",
              "      border-color: transparent;\n",
              "      border-bottom-color: var(--fill-color);\n",
              "      border-left-color: var(--fill-color);\n",
              "    }\n",
              "    20% {\n",
              "      border-color: transparent;\n",
              "      border-left-color: var(--fill-color);\n",
              "      border-top-color: var(--fill-color);\n",
              "    }\n",
              "    30% {\n",
              "      border-color: transparent;\n",
              "      border-left-color: var(--fill-color);\n",
              "      border-top-color: var(--fill-color);\n",
              "      border-right-color: var(--fill-color);\n",
              "    }\n",
              "    40% {\n",
              "      border-color: transparent;\n",
              "      border-right-color: var(--fill-color);\n",
              "      border-top-color: var(--fill-color);\n",
              "    }\n",
              "    60% {\n",
              "      border-color: transparent;\n",
              "      border-right-color: var(--fill-color);\n",
              "    }\n",
              "    80% {\n",
              "      border-color: transparent;\n",
              "      border-right-color: var(--fill-color);\n",
              "      border-bottom-color: var(--fill-color);\n",
              "    }\n",
              "    90% {\n",
              "      border-color: transparent;\n",
              "      border-bottom-color: var(--fill-color);\n",
              "    }\n",
              "  }\n",
              "</style>\n",
              "\n",
              "  <script>\n",
              "    async function quickchart(key) {\n",
              "      const quickchartButtonEl =\n",
              "        document.querySelector('#' + key + ' button');\n",
              "      quickchartButtonEl.disabled = true;  // To prevent multiple clicks.\n",
              "      quickchartButtonEl.classList.add('colab-df-spinner');\n",
              "      try {\n",
              "        const charts = await google.colab.kernel.invokeFunction(\n",
              "            'suggestCharts', [key], {});\n",
              "      } catch (error) {\n",
              "        console.error('Error during call to suggestCharts:', error);\n",
              "      }\n",
              "      quickchartButtonEl.classList.remove('colab-df-spinner');\n",
              "      quickchartButtonEl.classList.add('colab-df-quickchart-complete');\n",
              "    }\n",
              "    (() => {\n",
              "      let quickchartButtonEl =\n",
              "        document.querySelector('#df-5fac89a7-2ebe-4c2d-a480-a1601d71f562 button');\n",
              "      quickchartButtonEl.style.display =\n",
              "        google.colab.kernel.accessAllowed ? 'block' : 'none';\n",
              "    })();\n",
              "  </script>\n",
              "</div>\n",
              "    </div>\n",
              "  </div>\n"
            ],
            "application/vnd.google.colaboratory.intrinsic+json": {
              "type": "dataframe",
              "variable_name": "train_df_with_features"
            }
          },
          "metadata": {},
          "execution_count": 18
        }
      ]
    },
    {
      "cell_type": "code",
      "source": [
        "test_df_with_features.head()"
      ],
      "metadata": {
        "id": "fYFNFAg285f5",
        "colab": {
          "base_uri": "https://localhost:8080/",
          "height": 226
        },
        "outputId": "2aac8ca0-b1ee-45a1-d2c9-86faf4510e98"
      },
      "execution_count": null,
      "outputs": [
        {
          "output_type": "execute_result",
          "data": {
            "text/plain": [
              "   user_id  item_id last_watch_dt  total_dur  watched_pct  target  \\\n",
              "0   718866     6382    2021-08-13      10309         19.0       0   \n",
              "1   147119    13865    2021-08-13       1666         26.0       0   \n",
              "2  1079425     4141    2021-08-13        774         10.0       0   \n",
              "3   810008    15297    2021-08-13          3          0.0       0   \n",
              "4  1068123    10440    2021-08-13        492          0.0       0   \n",
              "\n",
              "   user_avg_watched_pct  user_interaction_count  item_avg_watched_pct  \\\n",
              "0                  55.0                     2.0             22.855103   \n",
              "1                   0.0                     0.0             68.680699   \n",
              "2                  37.7                    10.0             59.019287   \n",
              "3                   0.0                     0.0             55.291089   \n",
              "4                   0.0                     0.0             47.377237   \n",
              "\n",
              "   item_interaction_count  ui_interaction_count  ui_avg_watched_pct  \\\n",
              "0                  4693.0                   0.0                 0.0   \n",
              "1                111863.0                   0.0                 0.0   \n",
              "2                  2748.0                   0.0                 0.0   \n",
              "3                175307.0                   0.0                 0.0   \n",
              "4                184054.0                   0.0                 0.0   \n",
              "\n",
              "   ui_total_dur_sum  ui_ratio_count  ui_diff_avg_watched  ui_ratio_total_dur  \n",
              "0               0.0             0.0                  0.0                 0.0  \n",
              "1               0.0             0.0                  0.0                 0.0  \n",
              "2               0.0             0.0                  0.0                 0.0  \n",
              "3               0.0             0.0                  0.0                 0.0  \n",
              "4               0.0             0.0                  0.0                 0.0  "
            ],
            "text/html": [
              "\n",
              "  <div id=\"df-9c40bc39-96a4-4d55-8b11-0d8e0f1a62c2\" class=\"colab-df-container\">\n",
              "    <div>\n",
              "<style scoped>\n",
              "    .dataframe tbody tr th:only-of-type {\n",
              "        vertical-align: middle;\n",
              "    }\n",
              "\n",
              "    .dataframe tbody tr th {\n",
              "        vertical-align: top;\n",
              "    }\n",
              "\n",
              "    .dataframe thead th {\n",
              "        text-align: right;\n",
              "    }\n",
              "</style>\n",
              "<table border=\"1\" class=\"dataframe\">\n",
              "  <thead>\n",
              "    <tr style=\"text-align: right;\">\n",
              "      <th></th>\n",
              "      <th>user_id</th>\n",
              "      <th>item_id</th>\n",
              "      <th>last_watch_dt</th>\n",
              "      <th>total_dur</th>\n",
              "      <th>watched_pct</th>\n",
              "      <th>target</th>\n",
              "      <th>user_avg_watched_pct</th>\n",
              "      <th>user_interaction_count</th>\n",
              "      <th>item_avg_watched_pct</th>\n",
              "      <th>item_interaction_count</th>\n",
              "      <th>ui_interaction_count</th>\n",
              "      <th>ui_avg_watched_pct</th>\n",
              "      <th>ui_total_dur_sum</th>\n",
              "      <th>ui_ratio_count</th>\n",
              "      <th>ui_diff_avg_watched</th>\n",
              "      <th>ui_ratio_total_dur</th>\n",
              "    </tr>\n",
              "  </thead>\n",
              "  <tbody>\n",
              "    <tr>\n",
              "      <th>0</th>\n",
              "      <td>718866</td>\n",
              "      <td>6382</td>\n",
              "      <td>2021-08-13</td>\n",
              "      <td>10309</td>\n",
              "      <td>19.0</td>\n",
              "      <td>0</td>\n",
              "      <td>55.0</td>\n",
              "      <td>2.0</td>\n",
              "      <td>22.855103</td>\n",
              "      <td>4693.0</td>\n",
              "      <td>0.0</td>\n",
              "      <td>0.0</td>\n",
              "      <td>0.0</td>\n",
              "      <td>0.0</td>\n",
              "      <td>0.0</td>\n",
              "      <td>0.0</td>\n",
              "    </tr>\n",
              "    <tr>\n",
              "      <th>1</th>\n",
              "      <td>147119</td>\n",
              "      <td>13865</td>\n",
              "      <td>2021-08-13</td>\n",
              "      <td>1666</td>\n",
              "      <td>26.0</td>\n",
              "      <td>0</td>\n",
              "      <td>0.0</td>\n",
              "      <td>0.0</td>\n",
              "      <td>68.680699</td>\n",
              "      <td>111863.0</td>\n",
              "      <td>0.0</td>\n",
              "      <td>0.0</td>\n",
              "      <td>0.0</td>\n",
              "      <td>0.0</td>\n",
              "      <td>0.0</td>\n",
              "      <td>0.0</td>\n",
              "    </tr>\n",
              "    <tr>\n",
              "      <th>2</th>\n",
              "      <td>1079425</td>\n",
              "      <td>4141</td>\n",
              "      <td>2021-08-13</td>\n",
              "      <td>774</td>\n",
              "      <td>10.0</td>\n",
              "      <td>0</td>\n",
              "      <td>37.7</td>\n",
              "      <td>10.0</td>\n",
              "      <td>59.019287</td>\n",
              "      <td>2748.0</td>\n",
              "      <td>0.0</td>\n",
              "      <td>0.0</td>\n",
              "      <td>0.0</td>\n",
              "      <td>0.0</td>\n",
              "      <td>0.0</td>\n",
              "      <td>0.0</td>\n",
              "    </tr>\n",
              "    <tr>\n",
              "      <th>3</th>\n",
              "      <td>810008</td>\n",
              "      <td>15297</td>\n",
              "      <td>2021-08-13</td>\n",
              "      <td>3</td>\n",
              "      <td>0.0</td>\n",
              "      <td>0</td>\n",
              "      <td>0.0</td>\n",
              "      <td>0.0</td>\n",
              "      <td>55.291089</td>\n",
              "      <td>175307.0</td>\n",
              "      <td>0.0</td>\n",
              "      <td>0.0</td>\n",
              "      <td>0.0</td>\n",
              "      <td>0.0</td>\n",
              "      <td>0.0</td>\n",
              "      <td>0.0</td>\n",
              "    </tr>\n",
              "    <tr>\n",
              "      <th>4</th>\n",
              "      <td>1068123</td>\n",
              "      <td>10440</td>\n",
              "      <td>2021-08-13</td>\n",
              "      <td>492</td>\n",
              "      <td>0.0</td>\n",
              "      <td>0</td>\n",
              "      <td>0.0</td>\n",
              "      <td>0.0</td>\n",
              "      <td>47.377237</td>\n",
              "      <td>184054.0</td>\n",
              "      <td>0.0</td>\n",
              "      <td>0.0</td>\n",
              "      <td>0.0</td>\n",
              "      <td>0.0</td>\n",
              "      <td>0.0</td>\n",
              "      <td>0.0</td>\n",
              "    </tr>\n",
              "  </tbody>\n",
              "</table>\n",
              "</div>\n",
              "    <div class=\"colab-df-buttons\">\n",
              "\n",
              "  <div class=\"colab-df-container\">\n",
              "    <button class=\"colab-df-convert\" onclick=\"convertToInteractive('df-9c40bc39-96a4-4d55-8b11-0d8e0f1a62c2')\"\n",
              "            title=\"Convert this dataframe to an interactive table.\"\n",
              "            style=\"display:none;\">\n",
              "\n",
              "  <svg xmlns=\"http://www.w3.org/2000/svg\" height=\"24px\" viewBox=\"0 -960 960 960\">\n",
              "    <path d=\"M120-120v-720h720v720H120Zm60-500h600v-160H180v160Zm220 220h160v-160H400v160Zm0 220h160v-160H400v160ZM180-400h160v-160H180v160Zm440 0h160v-160H620v160ZM180-180h160v-160H180v160Zm440 0h160v-160H620v160Z\"/>\n",
              "  </svg>\n",
              "    </button>\n",
              "\n",
              "  <style>\n",
              "    .colab-df-container {\n",
              "      display:flex;\n",
              "      gap: 12px;\n",
              "    }\n",
              "\n",
              "    .colab-df-convert {\n",
              "      background-color: #E8F0FE;\n",
              "      border: none;\n",
              "      border-radius: 50%;\n",
              "      cursor: pointer;\n",
              "      display: none;\n",
              "      fill: #1967D2;\n",
              "      height: 32px;\n",
              "      padding: 0 0 0 0;\n",
              "      width: 32px;\n",
              "    }\n",
              "\n",
              "    .colab-df-convert:hover {\n",
              "      background-color: #E2EBFA;\n",
              "      box-shadow: 0px 1px 2px rgba(60, 64, 67, 0.3), 0px 1px 3px 1px rgba(60, 64, 67, 0.15);\n",
              "      fill: #174EA6;\n",
              "    }\n",
              "\n",
              "    .colab-df-buttons div {\n",
              "      margin-bottom: 4px;\n",
              "    }\n",
              "\n",
              "    [theme=dark] .colab-df-convert {\n",
              "      background-color: #3B4455;\n",
              "      fill: #D2E3FC;\n",
              "    }\n",
              "\n",
              "    [theme=dark] .colab-df-convert:hover {\n",
              "      background-color: #434B5C;\n",
              "      box-shadow: 0px 1px 3px 1px rgba(0, 0, 0, 0.15);\n",
              "      filter: drop-shadow(0px 1px 2px rgba(0, 0, 0, 0.3));\n",
              "      fill: #FFFFFF;\n",
              "    }\n",
              "  </style>\n",
              "\n",
              "    <script>\n",
              "      const buttonEl =\n",
              "        document.querySelector('#df-9c40bc39-96a4-4d55-8b11-0d8e0f1a62c2 button.colab-df-convert');\n",
              "      buttonEl.style.display =\n",
              "        google.colab.kernel.accessAllowed ? 'block' : 'none';\n",
              "\n",
              "      async function convertToInteractive(key) {\n",
              "        const element = document.querySelector('#df-9c40bc39-96a4-4d55-8b11-0d8e0f1a62c2');\n",
              "        const dataTable =\n",
              "          await google.colab.kernel.invokeFunction('convertToInteractive',\n",
              "                                                    [key], {});\n",
              "        if (!dataTable) return;\n",
              "\n",
              "        const docLinkHtml = 'Like what you see? Visit the ' +\n",
              "          '<a target=\"_blank\" href=https://colab.research.google.com/notebooks/data_table.ipynb>data table notebook</a>'\n",
              "          + ' to learn more about interactive tables.';\n",
              "        element.innerHTML = '';\n",
              "        dataTable['output_type'] = 'display_data';\n",
              "        await google.colab.output.renderOutput(dataTable, element);\n",
              "        const docLink = document.createElement('div');\n",
              "        docLink.innerHTML = docLinkHtml;\n",
              "        element.appendChild(docLink);\n",
              "      }\n",
              "    </script>\n",
              "  </div>\n",
              "\n",
              "\n",
              "<div id=\"df-7ed9158d-dc75-4207-ac22-450b74db4b3a\">\n",
              "  <button class=\"colab-df-quickchart\" onclick=\"quickchart('df-7ed9158d-dc75-4207-ac22-450b74db4b3a')\"\n",
              "            title=\"Suggest charts\"\n",
              "            style=\"display:none;\">\n",
              "\n",
              "<svg xmlns=\"http://www.w3.org/2000/svg\" height=\"24px\"viewBox=\"0 0 24 24\"\n",
              "     width=\"24px\">\n",
              "    <g>\n",
              "        <path d=\"M19 3H5c-1.1 0-2 .9-2 2v14c0 1.1.9 2 2 2h14c1.1 0 2-.9 2-2V5c0-1.1-.9-2-2-2zM9 17H7v-7h2v7zm4 0h-2V7h2v10zm4 0h-2v-4h2v4z\"/>\n",
              "    </g>\n",
              "</svg>\n",
              "  </button>\n",
              "\n",
              "<style>\n",
              "  .colab-df-quickchart {\n",
              "      --bg-color: #E8F0FE;\n",
              "      --fill-color: #1967D2;\n",
              "      --hover-bg-color: #E2EBFA;\n",
              "      --hover-fill-color: #174EA6;\n",
              "      --disabled-fill-color: #AAA;\n",
              "      --disabled-bg-color: #DDD;\n",
              "  }\n",
              "\n",
              "  [theme=dark] .colab-df-quickchart {\n",
              "      --bg-color: #3B4455;\n",
              "      --fill-color: #D2E3FC;\n",
              "      --hover-bg-color: #434B5C;\n",
              "      --hover-fill-color: #FFFFFF;\n",
              "      --disabled-bg-color: #3B4455;\n",
              "      --disabled-fill-color: #666;\n",
              "  }\n",
              "\n",
              "  .colab-df-quickchart {\n",
              "    background-color: var(--bg-color);\n",
              "    border: none;\n",
              "    border-radius: 50%;\n",
              "    cursor: pointer;\n",
              "    display: none;\n",
              "    fill: var(--fill-color);\n",
              "    height: 32px;\n",
              "    padding: 0;\n",
              "    width: 32px;\n",
              "  }\n",
              "\n",
              "  .colab-df-quickchart:hover {\n",
              "    background-color: var(--hover-bg-color);\n",
              "    box-shadow: 0 1px 2px rgba(60, 64, 67, 0.3), 0 1px 3px 1px rgba(60, 64, 67, 0.15);\n",
              "    fill: var(--button-hover-fill-color);\n",
              "  }\n",
              "\n",
              "  .colab-df-quickchart-complete:disabled,\n",
              "  .colab-df-quickchart-complete:disabled:hover {\n",
              "    background-color: var(--disabled-bg-color);\n",
              "    fill: var(--disabled-fill-color);\n",
              "    box-shadow: none;\n",
              "  }\n",
              "\n",
              "  .colab-df-spinner {\n",
              "    border: 2px solid var(--fill-color);\n",
              "    border-color: transparent;\n",
              "    border-bottom-color: var(--fill-color);\n",
              "    animation:\n",
              "      spin 1s steps(1) infinite;\n",
              "  }\n",
              "\n",
              "  @keyframes spin {\n",
              "    0% {\n",
              "      border-color: transparent;\n",
              "      border-bottom-color: var(--fill-color);\n",
              "      border-left-color: var(--fill-color);\n",
              "    }\n",
              "    20% {\n",
              "      border-color: transparent;\n",
              "      border-left-color: var(--fill-color);\n",
              "      border-top-color: var(--fill-color);\n",
              "    }\n",
              "    30% {\n",
              "      border-color: transparent;\n",
              "      border-left-color: var(--fill-color);\n",
              "      border-top-color: var(--fill-color);\n",
              "      border-right-color: var(--fill-color);\n",
              "    }\n",
              "    40% {\n",
              "      border-color: transparent;\n",
              "      border-right-color: var(--fill-color);\n",
              "      border-top-color: var(--fill-color);\n",
              "    }\n",
              "    60% {\n",
              "      border-color: transparent;\n",
              "      border-right-color: var(--fill-color);\n",
              "    }\n",
              "    80% {\n",
              "      border-color: transparent;\n",
              "      border-right-color: var(--fill-color);\n",
              "      border-bottom-color: var(--fill-color);\n",
              "    }\n",
              "    90% {\n",
              "      border-color: transparent;\n",
              "      border-bottom-color: var(--fill-color);\n",
              "    }\n",
              "  }\n",
              "</style>\n",
              "\n",
              "  <script>\n",
              "    async function quickchart(key) {\n",
              "      const quickchartButtonEl =\n",
              "        document.querySelector('#' + key + ' button');\n",
              "      quickchartButtonEl.disabled = true;  // To prevent multiple clicks.\n",
              "      quickchartButtonEl.classList.add('colab-df-spinner');\n",
              "      try {\n",
              "        const charts = await google.colab.kernel.invokeFunction(\n",
              "            'suggestCharts', [key], {});\n",
              "      } catch (error) {\n",
              "        console.error('Error during call to suggestCharts:', error);\n",
              "      }\n",
              "      quickchartButtonEl.classList.remove('colab-df-spinner');\n",
              "      quickchartButtonEl.classList.add('colab-df-quickchart-complete');\n",
              "    }\n",
              "    (() => {\n",
              "      let quickchartButtonEl =\n",
              "        document.querySelector('#df-7ed9158d-dc75-4207-ac22-450b74db4b3a button');\n",
              "      quickchartButtonEl.style.display =\n",
              "        google.colab.kernel.accessAllowed ? 'block' : 'none';\n",
              "    })();\n",
              "  </script>\n",
              "</div>\n",
              "    </div>\n",
              "  </div>\n"
            ],
            "application/vnd.google.colaboratory.intrinsic+json": {
              "type": "dataframe",
              "variable_name": "test_df_with_features"
            }
          },
          "metadata": {},
          "execution_count": 19
        }
      ]
    },
    {
      "cell_type": "code",
      "source": [
        "train_df_with_features.to_csv('train_df_with_features.csv')\n",
        "test_df_with_features.to_csv('test_df_with_features.csv')"
      ],
      "metadata": {
        "id": "0_XcgodnjYuL"
      },
      "execution_count": null,
      "outputs": []
    },
    {
      "cell_type": "markdown",
      "metadata": {
        "id": "aEck2Dx18szE"
      },
      "source": [
        "\n",
        "### 3 Этап. Обучение финального ранкера (max 2 балла)\n",
        "Собрав все признаки из этапа 2, добавив скоры моделей из этапа 1 для каждой пары пользователь-айтем (где это возможно), пришло время обучать ранкер. В качестве ранкера можно использовать либо [xgboost](https://xgboost.readthedocs.io/en/stable/) или [catboost](https://catboost.ai/). Обучать можно как `Classfier`, так и `Ranker`, выбираем то, что лучше сработает. Обучение ранкера будет проходить на `valid_stage_1`, как  раз на которой мы валидировали модели, а тестировать на `test`, которую мы до сих пор не трогали.  Заметьте, что у нас в тесте есть холодные пользователи – те, кого не было в train и активные – те, кто был в train. Возможно их стоит обработать по отдельности (а может и нет).  \n",
        "(1 балл)\n",
        "\n",
        "После получения лучшей модели надо посмотреть на важность признаков и [shap values](https://shap.readthedocs.io/en/latest/index.html), чтобы:\n",
        "1. Интерпритировать признаки, которые вы собрали, насколько они полезные\n",
        "2. Проверить наличие ликов – если важность фичи в 100 раз больше, чем у всех остальных, то явно что-то не то  \n",
        "\n",
        "(1 балл)\n",
        "\n",
        "\n",
        "\n",
        "\n"
      ]
    },
    {
      "cell_type": "markdown",
      "source": [
        "Решение:\n",
        "\n",
        "\n",
        "Для каждой пары (user, item) из обучающей (valid_stage_1) и тестовой выборок добавляет дополнительные признаки – скоры трёх моделей, вычисленные на этапе 1.\n",
        "\n",
        "Собирает итоговый датафрейм с признаками (10 агрегированных фич из этапа 2 плюс 3 скора моделей, итого 13 фич).\n",
        "\n",
        "Обучает финальный ранкер с использованием XGBoost (как бинарного классификатора).\n",
        "\n",
        "Строит графики важности признаков и рассчитывает SHAP values для интерпретации фич и проверки на наличие утечек (слишком доминирующая фича)."
      ],
      "metadata": {
        "id": "geXwN3Nt-Xa7"
      }
    },
    {
      "cell_type": "markdown",
      "source": [
        "## Признаки"
      ],
      "metadata": {
        "id": "ukhjlp90viAw"
      }
    },
    {
      "cell_type": "code",
      "source": [
        "def add_model_scores_vectorized(df):\n",
        "    # Эвристическая модель: берем скоры через map по словарю\n",
        "    df['score_heuristic'] = df['item_id'].map(my_heuristic_model.item_popularity)\n",
        "    df['score_heuristic'] = df['score_heuristic'].fillna(my_heuristic_model.default_score)\n",
        "\n",
        "    # Матричная факторизация: векторизованный расчет скалярного произведения латентных векторов\n",
        "    user_idx = df['user_id'].map(my_matrix_factorization.user_to_index)\n",
        "    item_idx = df['item_id'].map(my_matrix_factorization.item_to_index)\n",
        "\n",
        "    # Инициализируем массив для скоров\n",
        "    mf_scores = np.zeros(len(df))\n",
        "\n",
        "    # Определяем маску валидных пар\n",
        "    valid_mask = user_idx.notnull() & item_idx.notnull()\n",
        "    valid_user_idx = user_idx[valid_mask].astype(int).values\n",
        "    valid_item_idx = item_idx[valid_mask].astype(int).values\n",
        "\n",
        "    # Векторизованное скалярное произведение\n",
        "    mf_scores[valid_mask] = np.sum(\n",
        "        my_matrix_factorization.user_factors[valid_user_idx] *\n",
        "        my_matrix_factorization.item_factors[valid_item_idx],\n",
        "        axis=1\n",
        "    )\n",
        "    df['score_mf'] = mf_scores\n",
        "\n",
        "    # Нейросетевая модель: собираем индексы и делаем батчевое предсказание\n",
        "    nn_user_idx = df['user_id'].map(my_neural_network.user_to_index)\n",
        "    nn_item_idx = df['item_id'].map(my_neural_network.item_to_index)\n",
        "    nn_user_idx = nn_user_idx.fillna(-1).astype(int).values\n",
        "    nn_item_idx = nn_item_idx.fillna(-1).astype(int).values\n",
        "    valid_mask_nn = (nn_user_idx >= 0) & (nn_item_idx >= 0)\n",
        "\n",
        "    nn_scores = np.full(len(df), my_neural_network.default_score, dtype=np.float32)\n",
        "    if np.any(valid_mask_nn):\n",
        "        X_user = nn_user_idx[valid_mask_nn]\n",
        "        X_item = nn_item_idx[valid_mask_nn]\n",
        "        preds = my_neural_network.model.predict([X_user, X_item], verbose=0).flatten()\n",
        "        nn_scores[valid_mask_nn] = preds\n",
        "    df['score_nn'] = nn_scores\n",
        "\n",
        "    return df"
      ],
      "metadata": {
        "id": "_ZDKPl8YuojN"
      },
      "execution_count": 19,
      "outputs": []
    },
    {
      "cell_type": "code",
      "source": [
        "train_df_with_features_preds = add_model_scores_vectorized(train_df_with_features)"
      ],
      "metadata": {
        "id": "KGdFl7BBupK2"
      },
      "execution_count": 20,
      "outputs": []
    },
    {
      "cell_type": "code",
      "source": [
        "test_df_with_features_preds = add_model_scores_vectorized(test_df_with_features)"
      ],
      "metadata": {
        "id": "AHkrM4b6vHJx"
      },
      "execution_count": 21,
      "outputs": []
    },
    {
      "cell_type": "markdown",
      "source": [
        "## Обучение"
      ],
      "metadata": {
        "id": "EYmqaP0dvjhG"
      }
    },
    {
      "cell_type": "code",
      "source": [
        "# Определим список признаков\n",
        "features = [\n",
        "    \"user_avg_watched_pct\", \"user_interaction_count\",\n",
        "    \"item_avg_watched_pct\", \"item_interaction_count\",\n",
        "    \"ui_interaction_count\", \"ui_avg_watched_pct\",\n",
        "    \"ui_total_dur_sum\", \"ui_ratio_count\",\n",
        "    \"ui_diff_avg_watched\", \"ui_ratio_total_dur\",\n",
        "    \"score_heuristic\", \"score_mf\", \"score_nn\"\n",
        "]\n",
        "\n",
        "# Подготовка обучающих данных (valid_stage_1 с признаками)\n",
        "X_train = train_df_with_features_preds[features]\n",
        "y_train = train_df_with_features_preds['target']\n",
        "\n",
        "# Инициализация и обучение модели XGBoost\n",
        "final_ranker = xgb.XGBClassifier(objective='binary:logistic', n_estimators=100, random_state=42)\n",
        "final_ranker.fit(X_train, y_train)\n",
        "\n",
        "# Оценка качества на обучающем наборе\n",
        "y_pred_proba = final_ranker.predict_proba(X_train)[:, 1]\n",
        "auc = roc_auc_score(y_train, y_pred_proba)\n",
        "print(\"Train AUC:\", auc)"
      ],
      "metadata": {
        "id": "QQ8ik6LL9wBp",
        "colab": {
          "base_uri": "https://localhost:8080/"
        },
        "outputId": "9209a73e-9726-4dee-8830-02b2b0053a38"
      },
      "execution_count": 22,
      "outputs": [
        {
          "output_type": "stream",
          "name": "stdout",
          "text": [
            "Train AUC: 0.7246452406074884\n"
          ]
        }
      ]
    },
    {
      "cell_type": "code",
      "source": [
        "import pickle\n",
        "\n",
        "with open('final_ranker.pkl', 'wb') as f:\n",
        "    pickle.dump(final_ranker, f)\n",
        "\n",
        "print(\"Модель final_ranker успешно сохранена в файл final_ranker.pkl\")"
      ],
      "metadata": {
        "colab": {
          "base_uri": "https://localhost:8080/"
        },
        "id": "ctTIeWHkXf2F",
        "outputId": "d16e1ef8-e524-4ae7-beff-3e4334180bfb"
      },
      "execution_count": 23,
      "outputs": [
        {
          "output_type": "stream",
          "name": "stdout",
          "text": [
            "Модель final_ranker успешно сохранена в файл final_ranker.pkl\n"
          ]
        }
      ]
    },
    {
      "cell_type": "markdown",
      "source": [
        "## Интерпретация модели"
      ],
      "metadata": {
        "id": "tgEhc5Q-xlj2"
      }
    },
    {
      "cell_type": "code",
      "source": [
        "# Визуализация важности признаков\n",
        "xgb.plot_importance(final_ranker, max_num_features=features.__len__())\n",
        "plt.title(\"Feature Importance\")\n",
        "plt.show()"
      ],
      "metadata": {
        "id": "X9nor0ne9xml",
        "colab": {
          "base_uri": "https://localhost:8080/",
          "height": 472
        },
        "outputId": "3d886db5-7473-4bc2-87e8-1b42c32df254"
      },
      "execution_count": null,
      "outputs": [
        {
          "output_type": "display_data",
          "data": {
            "text/plain": [
              "<Figure size 640x480 with 1 Axes>"
            ],
            "image/png": "[encoded data removed]"
          },
          "metadata": {}
        }
      ]
    },
    {
      "cell_type": "code",
      "source": [
        "# Расчет SHAP values\n",
        "explainer = shap.TreeExplainer(final_ranker)\n",
        "shap_values = explainer.shap_values(X_train)\n",
        "\n",
        "# График суммарного влияния фич (bar plot)\n",
        "shap.summary_plot(shap_values, X_train, plot_type=\"bar\", feature_names=features)\n",
        "\n",
        "# График распределения влияния фич для нескольких примеров\n",
        "shap.summary_plot(shap_values, X_train, feature_names=features)"
      ],
      "metadata": {
        "id": "8I8w_8qxxqw2",
        "colab": {
          "base_uri": "https://localhost:8080/",
          "height": 1000
        },
        "outputId": "fa8da89c-deda-46fb-a208-f86e9bd3581b"
      },
      "execution_count": null,
      "outputs": [
        {
          "output_type": "display_data",
          "data": {
            "text/plain": [
              "<Figure size 800x670 with 1 Axes>"
            ],
            "image/png": "[encoded data removed]"
          },
          "metadata": {}
        },
        {
          "output_type": "display_data",
          "data": {
            "text/plain": [
              "<Figure size 800x670 with 2 Axes>"
            ],
            "image/png": "[encoded data removed]"
          },
          "metadata": {}
        }
      ]
    },
    {
      "cell_type": "code",
      "source": [
        "train_df_with_features_preds.to_csv('train_df_with_features_preds.csv')\n",
        "test_df_with_features_preds.to_csv('test_df_with_features_preds.csv')"
      ],
      "metadata": {
        "id": "zQrsWThQQP0t"
      },
      "execution_count": null,
      "outputs": []
    },
    {
      "cell_type": "markdown",
      "metadata": {
        "id": "bRNNKSf28szE"
      },
      "source": [
        "\n",
        "### 4 Этап. Инференс лучшего ранкера (max 3 балла)\n",
        "\n",
        "Теперь мы хотим построить рекомендации \"на завтра\", для этого нам нужно:\n",
        "\n",
        "1. Обучить модели первого уровня на всех (train+test) данных (0.5 балла)\n",
        "2. Для каждой модели первого уровня для каждого пользователя сгененировать N кандидатов (0.5 балла)\n",
        "3. \"Склеить\" всех кандидатов для каждого пользователя (дубли выкинуть), посчитать скоры от всех моделей (0.5 балла)\n",
        "4. Собрать фичи для ваших кандидатов (теперь можем считать признаки на всех данных) (0.5 балла)\n",
        "5. Проскорить всех кандидатов бустингом и оставить k лучших (0.5 балла)\n",
        "6. Посчитать разнообразие(Diversity) и построить график от Diversity(k) (0.5 балла)\n",
        "\n",
        "\n",
        "Все гиперпараметры (N, k) определяете только Вы!"
      ]
    },
    {
      "cell_type": "code",
      "source": [
        "!pip install -q dill"
      ],
      "metadata": {
        "colab": {
          "base_uri": "https://localhost:8080/"
        },
        "id": "MXbijl5CXjVU",
        "outputId": "20c48742-2f5f-4d17-9825-203631aae670"
      },
      "execution_count": 24,
      "outputs": [
        {
          "output_type": "stream",
          "name": "stdout",
          "text": [
            "\u001b[?25l   \u001b[90m━━━━━━━━━━━━━━━━━━━━━━━━━━━━━━━━━━━━━━━━\u001b[0m \u001b[32m0.0/119.4 kB\u001b[0m \u001b[31m?\u001b[0m eta \u001b[36m-:--:--\u001b[0m\r\u001b[2K   \u001b[90m━━━━━━━━━━━━━━━━━━━━━━━━━━━━━━━━━━━━━━━━\u001b[0m \u001b[32m119.4/119.4 kB\u001b[0m \u001b[31m10.0 MB/s\u001b[0m eta \u001b[36m0:00:00\u001b[0m\n",
            "\u001b[?25h"
          ]
        }
      ]
    },
    {
      "cell_type": "code",
      "source": [
        "# Обучение моделей первого уровня на всех данных (train+test)\n",
        "# Объединяем все данные\n",
        "all_data = pd.concat([train_stage_1, valid_stage_1, test_df], ignore_index=True)\n",
        "all_data['last_watch_dt'] = pd.to_datetime(all_data['last_watch_dt'])"
      ],
      "metadata": {
        "id": "qtio58j21lc2"
      },
      "execution_count": 26,
      "outputs": []
    },
    {
      "cell_type": "code",
      "source": [
        "all_data = pd.read_csv('all_data.csv', parse_dates=['last_watch_dt'])"
      ],
      "metadata": {
        "id": "U9vSF8plh1jm"
      },
      "execution_count": null,
      "outputs": []
    },
    {
      "cell_type": "code",
      "source": [
        "# Обучаем модели первого уровня на всех данных\n",
        "my_heuristic_model_all = MyHeuristicModel(all_data)\n",
        "my_matrix_factorization_all = MyMatrixFactorization(all_data, n_factors=5)\n",
        "my_neural_network_all = MyNeuralNetwork(all_data, embedding_size=10, hidden_units=[32, 16], epochs=3, batch_size=256)"
      ],
      "metadata": {
        "id": "VZmPCxYC1mOK",
        "colab": {
          "base_uri": "https://localhost:8080/"
        },
        "outputId": "0f99b8ab-c3f8-41cf-d1fc-45e11bf2a096"
      },
      "execution_count": null,
      "outputs": [
        {
          "output_type": "stream",
          "name": "stdout",
          "text": [
            "Epoch 1/3\n",
            "\u001b[1m21389/21389\u001b[0m \u001b[32m━━━━━━━━━━━━━━━━━━━━\u001b[0m\u001b[37m\u001b[0m \u001b[1m102s\u001b[0m 5ms/step - loss: 0.2093\n",
            "Epoch 2/3\n",
            "\u001b[1m21389/21389\u001b[0m \u001b[32m━━━━━━━━━━━━━━━━━━━━\u001b[0m\u001b[37m\u001b[0m \u001b[1m124s\u001b[0m 4ms/step - loss: 0.1686\n",
            "Epoch 3/3\n",
            "\u001b[1m21389/21389\u001b[0m \u001b[32m━━━━━━━━━━━━━━━━━━━━\u001b[0m\u001b[37m\u001b[0m \u001b[1m81s\u001b[0m 4ms/step - loss: 0.1500\n"
          ]
        }
      ]
    },
    {
      "cell_type": "code",
      "source": [
        "# Сохраняем эвристическую модель\n",
        "with open('heuristic_model_all.pkl', 'wb') as f:\n",
        "    dill.dump(my_heuristic_model_all, f)\n",
        "\n",
        "import dill\n",
        "\n",
        "with open('matrix_factorization_all.pkl', 'wb') as f:\n",
        "    dill.dump(my_matrix_factorization_all, f)\n",
        "\n",
        "# Сохраняем нейросетевую модель (Keras)\n",
        "my_neural_network_all.model.save('neural_network_all.h5')\n",
        "\n",
        "print(\"Модели успешно обучены и сохранены!\")"
      ],
      "metadata": {
        "colab": {
          "base_uri": "https://localhost:8080/"
        },
        "id": "i3_fvQ_vhORM",
        "outputId": "a29f4dd2-adc5-4468-b234-5c6727c0054c"
      },
      "execution_count": null,
      "outputs": [
        {
          "output_type": "stream",
          "name": "stderr",
          "text": [
            "WARNING:absl:You are saving your model as an HDF5 file via `model.save()` or `keras.saving.save_model(model)`. This file format is considered legacy. We recommend using instead the native Keras format, e.g. `model.save('my_model.keras')` or `keras.saving.save_model(model, 'my_model.keras')`. \n"
          ]
        },
        {
          "output_type": "stream",
          "name": "stdout",
          "text": [
            "Модели успешно обучены и сохранены!\n"
          ]
        }
      ]
    },
    {
      "cell_type": "code",
      "source": [
        "# Генерация N кандидатов для каждого пользователя по каждой модели\n",
        "\n",
        "N = 5 # число кандидатов, генерируемых каждой моделью для каждого пользователя\n",
        "\n",
        "users_all = all_data['user_id'].unique()\n",
        "candidate_dict = {}\n",
        "for user in tqdm(users_all):\n",
        "    # Для каждого пользователя получаем кандидатов из каждой модели\n",
        "    cand1 = my_heuristic_model_all.recommend(user, top_k=N)\n",
        "    cand2 = my_matrix_factorization_all.recommend(user, top_k=N)\n",
        "    # cand3 = my_neural_network_all.recommend(user, top_k=N)\n",
        "    # Объединяем и удаляем дубли\n",
        "    all_candidates = list(set(cand1 + cand2))\n",
        "    candidate_dict[user] = all_candidates"
      ],
      "metadata": {
        "colab": {
          "base_uri": "https://localhost:8080/"
        },
        "id": "FzfHjTXpWUuL",
        "outputId": "e6e515b6-5d47-4bd5-e471-282825255a21"
      },
      "execution_count": null,
      "outputs": [
        {
          "output_type": "stream",
          "name": "stderr",
          "text": [
            "100%|██████████| 962151/962151 [05:59<00:00, 2676.36it/s]\n"
          ]
        }
      ]
    },
    {
      "cell_type": "code",
      "source": [
        "# Формируем DataFrame кандидатов (каждая строка – пара (user, item))\n",
        "candidate_rows = []\n",
        "for user, items in candidate_dict.items():\n",
        "    for item in items:\n",
        "        candidate_rows.append({'user_id': user, 'item_id': item})\n",
        "candidates_df = pd.DataFrame(candidate_rows)"
      ],
      "metadata": {
        "id": "Oz00HuCD2qe_"
      },
      "execution_count": null,
      "outputs": []
    },
    {
      "cell_type": "code",
      "source": [
        "all_data.to_csv('all_data.csv', index=False)"
      ],
      "metadata": {
        "id": "t7FpkAKfTNmY"
      },
      "execution_count": null,
      "outputs": []
    },
    {
      "cell_type": "code",
      "source": [
        "import pickle\n",
        "\n",
        "with open(\"candidate_dict.pkl\", \"wb\") as f:\n",
        "    pickle.dump(candidate_dict, f)"
      ],
      "metadata": {
        "id": "SobyGuqaTLzi"
      },
      "execution_count": null,
      "outputs": []
    },
    {
      "cell_type": "code",
      "source": [
        "candidates_df.to_csv('candidates_df.csv')"
      ],
      "metadata": {
        "id": "E3jmE4rmV7I6"
      },
      "execution_count": null,
      "outputs": []
    },
    {
      "cell_type": "markdown",
      "source": [
        "## Скоры"
      ],
      "metadata": {
        "id": "j_7QPnp6hVOI"
      }
    },
    {
      "cell_type": "code",
      "source": [
        "!pip install -q dill"
      ],
      "metadata": {
        "colab": {
          "base_uri": "https://localhost:8080/"
        },
        "id": "9Wp5HWmRQmx0",
        "outputId": "bc7a77ad-794b-467a-d79d-94d83ebba92e"
      },
      "execution_count": null,
      "outputs": [
        {
          "output_type": "stream",
          "name": "stdout",
          "text": [
            "\u001b[?25l   \u001b[90m━━━━━━━━━━━━━━━━━━━━━━━━━━━━━━━━━━━━━━━━\u001b[0m \u001b[32m0.0/119.4 kB\u001b[0m \u001b[31m?\u001b[0m eta \u001b[36m-:--:--\u001b[0m\r\u001b[2K   \u001b[91m━━━━━━━━━━━━━━━━━━━━━━━━━━━━━━━━━━━━━\u001b[0m\u001b[91m╸\u001b[0m\u001b[90m━━\u001b[0m \u001b[32m112.6/119.4 kB\u001b[0m \u001b[31m4.1 MB/s\u001b[0m eta \u001b[36m0:00:01\u001b[0m\r\u001b[2K   \u001b[90m━━━━━━━━━━━━━━━━━━━━━━━━━━━━━━━━━━━━━━━━\u001b[0m \u001b[32m119.4/119.4 kB\u001b[0m \u001b[31m2.5 MB/s\u001b[0m eta \u001b[36m0:00:00\u001b[0m\n",
            "\u001b[?25h"
          ]
        }
      ]
    },
    {
      "cell_type": "code",
      "source": [
        "candidates_df = pd.read_csv('candidates_df.csv', index_col=0)"
      ],
      "metadata": {
        "id": "dw89EDELiGg5"
      },
      "execution_count": null,
      "outputs": []
    },
    {
      "cell_type": "code",
      "source": [
        "candidates_df.head()"
      ],
      "metadata": {
        "colab": {
          "base_uri": "https://localhost:8080/",
          "height": 206
        },
        "id": "6P_cJI_wiKho",
        "outputId": "b69cb669-492d-446e-a1e1-13f18a9b8efb"
      },
      "execution_count": null,
      "outputs": [
        {
          "output_type": "execute_result",
          "data": {
            "text/plain": [
              "   user_id  item_id\n",
              "0   310745     9728\n",
              "1   310745    15297\n",
              "2   310745    10440\n",
              "3   310745    13865\n",
              "4   310745      142"
            ],
            "text/html": [
              "\n",
              "  <div id=\"df-f9277e53-99c5-4de1-83e6-6e7606dc50c2\" class=\"colab-df-container\">\n",
              "    <div>\n",
              "<style scoped>\n",
              "    .dataframe tbody tr th:only-of-type {\n",
              "        vertical-align: middle;\n",
              "    }\n",
              "\n",
              "    .dataframe tbody tr th {\n",
              "        vertical-align: top;\n",
              "    }\n",
              "\n",
              "    .dataframe thead th {\n",
              "        text-align: right;\n",
              "    }\n",
              "</style>\n",
              "<table border=\"1\" class=\"dataframe\">\n",
              "  <thead>\n",
              "    <tr style=\"text-align: right;\">\n",
              "      <th></th>\n",
              "      <th>user_id</th>\n",
              "      <th>item_id</th>\n",
              "    </tr>\n",
              "  </thead>\n",
              "  <tbody>\n",
              "    <tr>\n",
              "      <th>0</th>\n",
              "      <td>310745</td>\n",
              "      <td>9728</td>\n",
              "    </tr>\n",
              "    <tr>\n",
              "      <th>1</th>\n",
              "      <td>310745</td>\n",
              "      <td>15297</td>\n",
              "    </tr>\n",
              "    <tr>\n",
              "      <th>2</th>\n",
              "      <td>310745</td>\n",
              "      <td>10440</td>\n",
              "    </tr>\n",
              "    <tr>\n",
              "      <th>3</th>\n",
              "      <td>310745</td>\n",
              "      <td>13865</td>\n",
              "    </tr>\n",
              "    <tr>\n",
              "      <th>4</th>\n",
              "      <td>310745</td>\n",
              "      <td>142</td>\n",
              "    </tr>\n",
              "  </tbody>\n",
              "</table>\n",
              "</div>\n",
              "    <div class=\"colab-df-buttons\">\n",
              "\n",
              "  <div class=\"colab-df-container\">\n",
              "    <button class=\"colab-df-convert\" onclick=\"convertToInteractive('df-f9277e53-99c5-4de1-83e6-6e7606dc50c2')\"\n",
              "            title=\"Convert this dataframe to an interactive table.\"\n",
              "            style=\"display:none;\">\n",
              "\n",
              "  <svg xmlns=\"http://www.w3.org/2000/svg\" height=\"24px\" viewBox=\"0 -960 960 960\">\n",
              "    <path d=\"M120-120v-720h720v720H120Zm60-500h600v-160H180v160Zm220 220h160v-160H400v160Zm0 220h160v-160H400v160ZM180-400h160v-160H180v160Zm440 0h160v-160H620v160ZM180-180h160v-160H180v160Zm440 0h160v-160H620v160Z\"/>\n",
              "  </svg>\n",
              "    </button>\n",
              "\n",
              "  <style>\n",
              "    .colab-df-container {\n",
              "      display:flex;\n",
              "      gap: 12px;\n",
              "    }\n",
              "\n",
              "    .colab-df-convert {\n",
              "      background-color: #E8F0FE;\n",
              "      border: none;\n",
              "      border-radius: 50%;\n",
              "      cursor: pointer;\n",
              "      display: none;\n",
              "      fill: #1967D2;\n",
              "      height: 32px;\n",
              "      padding: 0 0 0 0;\n",
              "      width: 32px;\n",
              "    }\n",
              "\n",
              "    .colab-df-convert:hover {\n",
              "      background-color: #E2EBFA;\n",
              "      box-shadow: 0px 1px 2px rgba(60, 64, 67, 0.3), 0px 1px 3px 1px rgba(60, 64, 67, 0.15);\n",
              "      fill: #174EA6;\n",
              "    }\n",
              "\n",
              "    .colab-df-buttons div {\n",
              "      margin-bottom: 4px;\n",
              "    }\n",
              "\n",
              "    [theme=dark] .colab-df-convert {\n",
              "      background-color: #3B4455;\n",
              "      fill: #D2E3FC;\n",
              "    }\n",
              "\n",
              "    [theme=dark] .colab-df-convert:hover {\n",
              "      background-color: #434B5C;\n",
              "      box-shadow: 0px 1px 3px 1px rgba(0, 0, 0, 0.15);\n",
              "      filter: drop-shadow(0px 1px 2px rgba(0, 0, 0, 0.3));\n",
              "      fill: #FFFFFF;\n",
              "    }\n",
              "  </style>\n",
              "\n",
              "    <script>\n",
              "      const buttonEl =\n",
              "        document.querySelector('#df-f9277e53-99c5-4de1-83e6-6e7606dc50c2 button.colab-df-convert');\n",
              "      buttonEl.style.display =\n",
              "        google.colab.kernel.accessAllowed ? 'block' : 'none';\n",
              "\n",
              "      async function convertToInteractive(key) {\n",
              "        const element = document.querySelector('#df-f9277e53-99c5-4de1-83e6-6e7606dc50c2');\n",
              "        const dataTable =\n",
              "          await google.colab.kernel.invokeFunction('convertToInteractive',\n",
              "                                                    [key], {});\n",
              "        if (!dataTable) return;\n",
              "\n",
              "        const docLinkHtml = 'Like what you see? Visit the ' +\n",
              "          '<a target=\"_blank\" href=https://colab.research.google.com/notebooks/data_table.ipynb>data table notebook</a>'\n",
              "          + ' to learn more about interactive tables.';\n",
              "        element.innerHTML = '';\n",
              "        dataTable['output_type'] = 'display_data';\n",
              "        await google.colab.output.renderOutput(dataTable, element);\n",
              "        const docLink = document.createElement('div');\n",
              "        docLink.innerHTML = docLinkHtml;\n",
              "        element.appendChild(docLink);\n",
              "      }\n",
              "    </script>\n",
              "  </div>\n",
              "\n",
              "\n",
              "<div id=\"df-abaddae1-f563-4c76-9a92-b9af6e891bf8\">\n",
              "  <button class=\"colab-df-quickchart\" onclick=\"quickchart('df-abaddae1-f563-4c76-9a92-b9af6e891bf8')\"\n",
              "            title=\"Suggest charts\"\n",
              "            style=\"display:none;\">\n",
              "\n",
              "<svg xmlns=\"http://www.w3.org/2000/svg\" height=\"24px\"viewBox=\"0 0 24 24\"\n",
              "     width=\"24px\">\n",
              "    <g>\n",
              "        <path d=\"M19 3H5c-1.1 0-2 .9-2 2v14c0 1.1.9 2 2 2h14c1.1 0 2-.9 2-2V5c0-1.1-.9-2-2-2zM9 17H7v-7h2v7zm4 0h-2V7h2v10zm4 0h-2v-4h2v4z\"/>\n",
              "    </g>\n",
              "</svg>\n",
              "  </button>\n",
              "\n",
              "<style>\n",
              "  .colab-df-quickchart {\n",
              "      --bg-color: #E8F0FE;\n",
              "      --fill-color: #1967D2;\n",
              "      --hover-bg-color: #E2EBFA;\n",
              "      --hover-fill-color: #174EA6;\n",
              "      --disabled-fill-color: #AAA;\n",
              "      --disabled-bg-color: #DDD;\n",
              "  }\n",
              "\n",
              "  [theme=dark] .colab-df-quickchart {\n",
              "      --bg-color: #3B4455;\n",
              "      --fill-color: #D2E3FC;\n",
              "      --hover-bg-color: #434B5C;\n",
              "      --hover-fill-color: #FFFFFF;\n",
              "      --disabled-bg-color: #3B4455;\n",
              "      --disabled-fill-color: #666;\n",
              "  }\n",
              "\n",
              "  .colab-df-quickchart {\n",
              "    background-color: var(--bg-color);\n",
              "    border: none;\n",
              "    border-radius: 50%;\n",
              "    cursor: pointer;\n",
              "    display: none;\n",
              "    fill: var(--fill-color);\n",
              "    height: 32px;\n",
              "    padding: 0;\n",
              "    width: 32px;\n",
              "  }\n",
              "\n",
              "  .colab-df-quickchart:hover {\n",
              "    background-color: var(--hover-bg-color);\n",
              "    box-shadow: 0 1px 2px rgba(60, 64, 67, 0.3), 0 1px 3px 1px rgba(60, 64, 67, 0.15);\n",
              "    fill: var(--button-hover-fill-color);\n",
              "  }\n",
              "\n",
              "  .colab-df-quickchart-complete:disabled,\n",
              "  .colab-df-quickchart-complete:disabled:hover {\n",
              "    background-color: var(--disabled-bg-color);\n",
              "    fill: var(--disabled-fill-color);\n",
              "    box-shadow: none;\n",
              "  }\n",
              "\n",
              "  .colab-df-spinner {\n",
              "    border: 2px solid var(--fill-color);\n",
              "    border-color: transparent;\n",
              "    border-bottom-color: var(--fill-color);\n",
              "    animation:\n",
              "      spin 1s steps(1) infinite;\n",
              "  }\n",
              "\n",
              "  @keyframes spin {\n",
              "    0% {\n",
              "      border-color: transparent;\n",
              "      border-bottom-color: var(--fill-color);\n",
              "      border-left-color: var(--fill-color);\n",
              "    }\n",
              "    20% {\n",
              "      border-color: transparent;\n",
              "      border-left-color: var(--fill-color);\n",
              "      border-top-color: var(--fill-color);\n",
              "    }\n",
              "    30% {\n",
              "      border-color: transparent;\n",
              "      border-left-color: var(--fill-color);\n",
              "      border-top-color: var(--fill-color);\n",
              "      border-right-color: var(--fill-color);\n",
              "    }\n",
              "    40% {\n",
              "      border-color: transparent;\n",
              "      border-right-color: var(--fill-color);\n",
              "      border-top-color: var(--fill-color);\n",
              "    }\n",
              "    60% {\n",
              "      border-color: transparent;\n",
              "      border-right-color: var(--fill-color);\n",
              "    }\n",
              "    80% {\n",
              "      border-color: transparent;\n",
              "      border-right-color: var(--fill-color);\n",
              "      border-bottom-color: var(--fill-color);\n",
              "    }\n",
              "    90% {\n",
              "      border-color: transparent;\n",
              "      border-bottom-color: var(--fill-color);\n",
              "    }\n",
              "  }\n",
              "</style>\n",
              "\n",
              "  <script>\n",
              "    async function quickchart(key) {\n",
              "      const quickchartButtonEl =\n",
              "        document.querySelector('#' + key + ' button');\n",
              "      quickchartButtonEl.disabled = true;  // To prevent multiple clicks.\n",
              "      quickchartButtonEl.classList.add('colab-df-spinner');\n",
              "      try {\n",
              "        const charts = await google.colab.kernel.invokeFunction(\n",
              "            'suggestCharts', [key], {});\n",
              "      } catch (error) {\n",
              "        console.error('Error during call to suggestCharts:', error);\n",
              "      }\n",
              "      quickchartButtonEl.classList.remove('colab-df-spinner');\n",
              "      quickchartButtonEl.classList.add('colab-df-quickchart-complete');\n",
              "    }\n",
              "    (() => {\n",
              "      let quickchartButtonEl =\n",
              "        document.querySelector('#df-abaddae1-f563-4c76-9a92-b9af6e891bf8 button');\n",
              "      quickchartButtonEl.style.display =\n",
              "        google.colab.kernel.accessAllowed ? 'block' : 'none';\n",
              "    })();\n",
              "  </script>\n",
              "</div>\n",
              "    </div>\n",
              "  </div>\n"
            ],
            "application/vnd.google.colaboratory.intrinsic+json": {
              "type": "dataframe",
              "variable_name": "candidates_df"
            }
          },
          "metadata": {},
          "execution_count": 16
        }
      ]
    },
    {
      "cell_type": "code",
      "source": [
        "def add_model_scores_vectorized_candidates(df):\n",
        "    # Эвристическая модель: маппинг из словаря популярности\n",
        "    df['score_heuristic'] = df['item_id'].map(my_heuristic_model_all.item_popularity)\n",
        "    df['score_heuristic'] = df['score_heuristic'].fillna(my_heuristic_model_all.default_score)\n",
        "\n",
        "    # Матричная факторизация: векторное скалярное произведение латентных факторов\n",
        "    user_idx = df['user_id'].map(my_matrix_factorization_all.user_to_index)\n",
        "    item_idx = df['item_id'].map(my_matrix_factorization_all.item_to_index)\n",
        "    mf_scores = np.zeros(len(df))\n",
        "    valid_mask = user_idx.notnull() & item_idx.notnull()\n",
        "    valid_user_idx = user_idx[valid_mask].astype(int).values\n",
        "    valid_item_idx = item_idx[valid_mask].astype(int).values\n",
        "    mf_scores[valid_mask] = np.sum(\n",
        "        my_matrix_factorization_all.user_factors[valid_user_idx] *\n",
        "        my_matrix_factorization_all.item_factors[valid_item_idx],\n",
        "        axis=1\n",
        "    )\n",
        "    df['score_mf'] = mf_scores\n",
        "\n",
        "    # Нейросетевая модель: батчевое предсказание\n",
        "    nn_user_idx = df['user_id'].map(my_neural_network_all.user_to_index)\n",
        "    nn_item_idx = df['item_id'].map(my_neural_network_all.item_to_index)\n",
        "    nn_user_idx = nn_user_idx.fillna(-1).astype(int).values\n",
        "    nn_item_idx = nn_item_idx.fillna(-1).astype(int).values\n",
        "    valid_mask_nn = (nn_user_idx >= 0) & (nn_item_idx >= 0)\n",
        "    nn_scores = np.full(len(df), my_neural_network_all.default_score, dtype=np.float32)\n",
        "    if np.any(valid_mask_nn):\n",
        "        X_user = nn_user_idx[valid_mask_nn]\n",
        "        X_item = nn_item_idx[valid_mask_nn]\n",
        "        # Используем predict батчами, если размер батча слишком большой, можно дополнительно разбить\n",
        "        preds = my_neural_network_all.model.predict([X_user, X_item], verbose=0).flatten()\n",
        "        nn_scores[valid_mask_nn] = preds\n",
        "    df['score_nn'] = nn_scores\n",
        "\n",
        "    return df\n",
        "\n",
        "def add_model_scores_in_batches(df, batch_size=10000):\n",
        "    results = []\n",
        "    n = len(df)\n",
        "    for i in tqdm(range(0, n, batch_size), desc=\"Обработка батчей\"):\n",
        "        batch = df.iloc[i:i+batch_size].copy()\n",
        "        batch = add_model_scores_vectorized_candidates(batch)\n",
        "        results.append(batch)\n",
        "    return pd.concat(results, ignore_index=True)"
      ],
      "metadata": {
        "id": "lye_vgUFg89D"
      },
      "execution_count": null,
      "outputs": []
    },
    {
      "cell_type": "code",
      "source": [
        "# Применяем функцию по батчам к DataFrame кандидатов\n",
        "candidates_df_res = add_model_scores_in_batches(candidates_df, batch_size=100000)"
      ],
      "metadata": {
        "colab": {
          "base_uri": "https://localhost:8080/"
        },
        "id": "dqfrIwxnhilZ",
        "outputId": "6153f63a-f403-4179-b152-71268e35b608"
      },
      "execution_count": null,
      "outputs": [
        {
          "output_type": "stream",
          "name": "stderr",
          "text": [
            "Обработка батчей: 100%|██████████| 82/82 [13:40<00:00, 10.00s/it]\n"
          ]
        }
      ]
    },
    {
      "cell_type": "code",
      "source": [
        "candidates_df_res.to_csv('candidates_df_res.csv')"
      ],
      "metadata": {
        "id": "8oD5y7CGkjRG"
      },
      "execution_count": null,
      "outputs": []
    },
    {
      "cell_type": "code",
      "source": [
        "all_data = pd.read_csv('all_data.csv')"
      ],
      "metadata": {
        "id": "zglZDITrQtmg"
      },
      "execution_count": null,
      "outputs": []
    },
    {
      "cell_type": "code",
      "source": [
        "candidates_df_res = pd.read_csv('candidates_df_res.csv', index_col=0)"
      ],
      "metadata": {
        "id": "XAof6Df3oRTv"
      },
      "execution_count": 27,
      "outputs": []
    },
    {
      "cell_type": "code",
      "source": [
        "# сбор признаков для кандидатов на основе всех данных\n",
        "\n",
        "# Признаки для пользователя\n",
        "user_agg_all = all_data.groupby('user_id').agg(\n",
        "    user_avg_watched_pct=('watched_pct', 'mean'),\n",
        "    user_interaction_count=('user_id', 'count')\n",
        ").reset_index()\n",
        "\n",
        "# Признаки для айтема\n",
        "item_agg_all = all_data.groupby('item_id').agg(\n",
        "    item_avg_watched_pct=('watched_pct', 'mean'),\n",
        "    item_interaction_count=('item_id', 'count')\n",
        ").reset_index()\n",
        "\n",
        "# Признаки для взаимосвязи user-item\n",
        "ui_agg_all = all_data.groupby(['user_id', 'item_id']).agg(\n",
        "    ui_interaction_count=('user_id', 'count'),\n",
        "    ui_avg_watched_pct=('watched_pct', 'mean'),\n",
        "    ui_total_dur_sum=('total_dur', 'sum')\n",
        ").reset_index()\n",
        "\n",
        "ui_agg_all = ui_agg_all.merge(user_agg_all, on='user_id', how='left')\n",
        "ui_agg_all['ui_ratio_count'] = ui_agg_all['ui_interaction_count'] / ui_agg_all['user_interaction_count']\n",
        "ui_agg_all = ui_agg_all.merge(item_agg_all, on='item_id', how='left')\n",
        "ui_agg_all['ui_diff_avg_watched'] = ui_agg_all['user_avg_watched_pct'] - ui_agg_all['item_avg_watched_pct']\n",
        "user_total_dur_all = all_data.groupby('user_id')['total_dur'].sum().reset_index().rename(columns={'total_dur': 'user_total_dur_sum'})\n",
        "ui_agg_all = ui_agg_all.merge(user_total_dur_all, on='user_id', how='left')\n",
        "ui_agg_all['ui_ratio_total_dur'] = ui_agg_all['ui_total_dur_sum'] / ui_agg_all['user_total_dur_sum']"
      ],
      "metadata": {
        "id": "KYdP7d2Y28py"
      },
      "execution_count": 28,
      "outputs": []
    },
    {
      "cell_type": "code",
      "source": [
        "candidates_df_res"
      ],
      "metadata": {
        "colab": {
          "base_uri": "https://localhost:8080/",
          "height": 424
        },
        "id": "dxfyCvkgoFGU",
        "outputId": "ed8738be-2414-4e47-9060-bce499a4d9a3"
      },
      "execution_count": null,
      "outputs": [
        {
          "output_type": "execute_result",
          "data": {
            "text/plain": [
              "         user_id  item_id  score_heuristic  score_mf  score_nn\n",
              "0         310745     9728            74589  0.000672  0.783840\n",
              "1         310745    15297           101080 -0.000027  0.744274\n",
              "2         310745    10440            87957 -0.000261  0.618908\n",
              "3         310745    13865            80859  0.000298  0.903497\n",
              "4         310745      142            26761  0.000292  0.739772\n",
              "...          ...      ...              ...       ...       ...\n",
              "8194563   100875     3016                0  0.000000  0.189548\n",
              "8194564   100875    15476                0  0.000000  0.249106\n",
              "8194565   100875     3734            52972  0.000000  0.223070\n",
              "8194566   100875    13373              387  0.000000  0.286105\n",
              "8194567   100875     8031                0  0.000000  0.153071\n",
              "\n",
              "[8194568 rows x 5 columns]"
            ],
            "text/html": [
              "\n",
              "  <div id=\"df-175886f1-d4cc-4163-9b94-d75042e2cc42\" class=\"colab-df-container\">\n",
              "    <div>\n",
              "<style scoped>\n",
              "    .dataframe tbody tr th:only-of-type {\n",
              "        vertical-align: middle;\n",
              "    }\n",
              "\n",
              "    .dataframe tbody tr th {\n",
              "        vertical-align: top;\n",
              "    }\n",
              "\n",
              "    .dataframe thead th {\n",
              "        text-align: right;\n",
              "    }\n",
              "</style>\n",
              "<table border=\"1\" class=\"dataframe\">\n",
              "  <thead>\n",
              "    <tr style=\"text-align: right;\">\n",
              "      <th></th>\n",
              "      <th>user_id</th>\n",
              "      <th>item_id</th>\n",
              "      <th>score_heuristic</th>\n",
              "      <th>score_mf</th>\n",
              "      <th>score_nn</th>\n",
              "    </tr>\n",
              "  </thead>\n",
              "  <tbody>\n",
              "    <tr>\n",
              "      <th>0</th>\n",
              "      <td>310745</td>\n",
              "      <td>9728</td>\n",
              "      <td>74589</td>\n",
              "      <td>0.000672</td>\n",
              "      <td>0.783840</td>\n",
              "    </tr>\n",
              "    <tr>\n",
              "      <th>1</th>\n",
              "      <td>310745</td>\n",
              "      <td>15297</td>\n",
              "      <td>101080</td>\n",
              "      <td>-0.000027</td>\n",
              "      <td>0.744274</td>\n",
              "    </tr>\n",
              "    <tr>\n",
              "      <th>2</th>\n",
              "      <td>310745</td>\n",
              "      <td>10440</td>\n",
              "      <td>87957</td>\n",
              "      <td>-0.000261</td>\n",
              "      <td>0.618908</td>\n",
              "    </tr>\n",
              "    <tr>\n",
              "      <th>3</th>\n",
              "      <td>310745</td>\n",
              "      <td>13865</td>\n",
              "      <td>80859</td>\n",
              "      <td>0.000298</td>\n",
              "      <td>0.903497</td>\n",
              "    </tr>\n",
              "    <tr>\n",
              "      <th>4</th>\n",
              "      <td>310745</td>\n",
              "      <td>142</td>\n",
              "      <td>26761</td>\n",
              "      <td>0.000292</td>\n",
              "      <td>0.739772</td>\n",
              "    </tr>\n",
              "    <tr>\n",
              "      <th>...</th>\n",
              "      <td>...</td>\n",
              "      <td>...</td>\n",
              "      <td>...</td>\n",
              "      <td>...</td>\n",
              "      <td>...</td>\n",
              "    </tr>\n",
              "    <tr>\n",
              "      <th>8194563</th>\n",
              "      <td>100875</td>\n",
              "      <td>3016</td>\n",
              "      <td>0</td>\n",
              "      <td>0.000000</td>\n",
              "      <td>0.189548</td>\n",
              "    </tr>\n",
              "    <tr>\n",
              "      <th>8194564</th>\n",
              "      <td>100875</td>\n",
              "      <td>15476</td>\n",
              "      <td>0</td>\n",
              "      <td>0.000000</td>\n",
              "      <td>0.249106</td>\n",
              "    </tr>\n",
              "    <tr>\n",
              "      <th>8194565</th>\n",
              "      <td>100875</td>\n",
              "      <td>3734</td>\n",
              "      <td>52972</td>\n",
              "      <td>0.000000</td>\n",
              "      <td>0.223070</td>\n",
              "    </tr>\n",
              "    <tr>\n",
              "      <th>8194566</th>\n",
              "      <td>100875</td>\n",
              "      <td>13373</td>\n",
              "      <td>387</td>\n",
              "      <td>0.000000</td>\n",
              "      <td>0.286105</td>\n",
              "    </tr>\n",
              "    <tr>\n",
              "      <th>8194567</th>\n",
              "      <td>100875</td>\n",
              "      <td>8031</td>\n",
              "      <td>0</td>\n",
              "      <td>0.000000</td>\n",
              "      <td>0.153071</td>\n",
              "    </tr>\n",
              "  </tbody>\n",
              "</table>\n",
              "<p>8194568 rows × 5 columns</p>\n",
              "</div>\n",
              "    <div class=\"colab-df-buttons\">\n",
              "\n",
              "  <div class=\"colab-df-container\">\n",
              "    <button class=\"colab-df-convert\" onclick=\"convertToInteractive('df-175886f1-d4cc-4163-9b94-d75042e2cc42')\"\n",
              "            title=\"Convert this dataframe to an interactive table.\"\n",
              "            style=\"display:none;\">\n",
              "\n",
              "  <svg xmlns=\"http://www.w3.org/2000/svg\" height=\"24px\" viewBox=\"0 -960 960 960\">\n",
              "    <path d=\"M120-120v-720h720v720H120Zm60-500h600v-160H180v160Zm220 220h160v-160H400v160Zm0 220h160v-160H400v160ZM180-400h160v-160H180v160Zm440 0h160v-160H620v160ZM180-180h160v-160H180v160Zm440 0h160v-160H620v160Z\"/>\n",
              "  </svg>\n",
              "    </button>\n",
              "\n",
              "  <style>\n",
              "    .colab-df-container {\n",
              "      display:flex;\n",
              "      gap: 12px;\n",
              "    }\n",
              "\n",
              "    .colab-df-convert {\n",
              "      background-color: #E8F0FE;\n",
              "      border: none;\n",
              "      border-radius: 50%;\n",
              "      cursor: pointer;\n",
              "      display: none;\n",
              "      fill: #1967D2;\n",
              "      height: 32px;\n",
              "      padding: 0 0 0 0;\n",
              "      width: 32px;\n",
              "    }\n",
              "\n",
              "    .colab-df-convert:hover {\n",
              "      background-color: #E2EBFA;\n",
              "      box-shadow: 0px 1px 2px rgba(60, 64, 67, 0.3), 0px 1px 3px 1px rgba(60, 64, 67, 0.15);\n",
              "      fill: #174EA6;\n",
              "    }\n",
              "\n",
              "    .colab-df-buttons div {\n",
              "      margin-bottom: 4px;\n",
              "    }\n",
              "\n",
              "    [theme=dark] .colab-df-convert {\n",
              "      background-color: #3B4455;\n",
              "      fill: #D2E3FC;\n",
              "    }\n",
              "\n",
              "    [theme=dark] .colab-df-convert:hover {\n",
              "      background-color: #434B5C;\n",
              "      box-shadow: 0px 1px 3px 1px rgba(0, 0, 0, 0.15);\n",
              "      filter: drop-shadow(0px 1px 2px rgba(0, 0, 0, 0.3));\n",
              "      fill: #FFFFFF;\n",
              "    }\n",
              "  </style>\n",
              "\n",
              "    <script>\n",
              "      const buttonEl =\n",
              "        document.querySelector('#df-175886f1-d4cc-4163-9b94-d75042e2cc42 button.colab-df-convert');\n",
              "      buttonEl.style.display =\n",
              "        google.colab.kernel.accessAllowed ? 'block' : 'none';\n",
              "\n",
              "      async function convertToInteractive(key) {\n",
              "        const element = document.querySelector('#df-175886f1-d4cc-4163-9b94-d75042e2cc42');\n",
              "        const dataTable =\n",
              "          await google.colab.kernel.invokeFunction('convertToInteractive',\n",
              "                                                    [key], {});\n",
              "        if (!dataTable) return;\n",
              "\n",
              "        const docLinkHtml = 'Like what you see? Visit the ' +\n",
              "          '<a target=\"_blank\" href=https://colab.research.google.com/notebooks/data_table.ipynb>data table notebook</a>'\n",
              "          + ' to learn more about interactive tables.';\n",
              "        element.innerHTML = '';\n",
              "        dataTable['output_type'] = 'display_data';\n",
              "        await google.colab.output.renderOutput(dataTable, element);\n",
              "        const docLink = document.createElement('div');\n",
              "        docLink.innerHTML = docLinkHtml;\n",
              "        element.appendChild(docLink);\n",
              "      }\n",
              "    </script>\n",
              "  </div>\n",
              "\n",
              "\n",
              "<div id=\"df-e51f3c76-d07e-4512-a91f-e6c27ec4eeec\">\n",
              "  <button class=\"colab-df-quickchart\" onclick=\"quickchart('df-e51f3c76-d07e-4512-a91f-e6c27ec4eeec')\"\n",
              "            title=\"Suggest charts\"\n",
              "            style=\"display:none;\">\n",
              "\n",
              "<svg xmlns=\"http://www.w3.org/2000/svg\" height=\"24px\"viewBox=\"0 0 24 24\"\n",
              "     width=\"24px\">\n",
              "    <g>\n",
              "        <path d=\"M19 3H5c-1.1 0-2 .9-2 2v14c0 1.1.9 2 2 2h14c1.1 0 2-.9 2-2V5c0-1.1-.9-2-2-2zM9 17H7v-7h2v7zm4 0h-2V7h2v10zm4 0h-2v-4h2v4z\"/>\n",
              "    </g>\n",
              "</svg>\n",
              "  </button>\n",
              "\n",
              "<style>\n",
              "  .colab-df-quickchart {\n",
              "      --bg-color: #E8F0FE;\n",
              "      --fill-color: #1967D2;\n",
              "      --hover-bg-color: #E2EBFA;\n",
              "      --hover-fill-color: #174EA6;\n",
              "      --disabled-fill-color: #AAA;\n",
              "      --disabled-bg-color: #DDD;\n",
              "  }\n",
              "\n",
              "  [theme=dark] .colab-df-quickchart {\n",
              "      --bg-color: #3B4455;\n",
              "      --fill-color: #D2E3FC;\n",
              "      --hover-bg-color: #434B5C;\n",
              "      --hover-fill-color: #FFFFFF;\n",
              "      --disabled-bg-color: #3B4455;\n",
              "      --disabled-fill-color: #666;\n",
              "  }\n",
              "\n",
              "  .colab-df-quickchart {\n",
              "    background-color: var(--bg-color);\n",
              "    border: none;\n",
              "    border-radius: 50%;\n",
              "    cursor: pointer;\n",
              "    display: none;\n",
              "    fill: var(--fill-color);\n",
              "    height: 32px;\n",
              "    padding: 0;\n",
              "    width: 32px;\n",
              "  }\n",
              "\n",
              "  .colab-df-quickchart:hover {\n",
              "    background-color: var(--hover-bg-color);\n",
              "    box-shadow: 0 1px 2px rgba(60, 64, 67, 0.3), 0 1px 3px 1px rgba(60, 64, 67, 0.15);\n",
              "    fill: var(--button-hover-fill-color);\n",
              "  }\n",
              "\n",
              "  .colab-df-quickchart-complete:disabled,\n",
              "  .colab-df-quickchart-complete:disabled:hover {\n",
              "    background-color: var(--disabled-bg-color);\n",
              "    fill: var(--disabled-fill-color);\n",
              "    box-shadow: none;\n",
              "  }\n",
              "\n",
              "  .colab-df-spinner {\n",
              "    border: 2px solid var(--fill-color);\n",
              "    border-color: transparent;\n",
              "    border-bottom-color: var(--fill-color);\n",
              "    animation:\n",
              "      spin 1s steps(1) infinite;\n",
              "  }\n",
              "\n",
              "  @keyframes spin {\n",
              "    0% {\n",
              "      border-color: transparent;\n",
              "      border-bottom-color: var(--fill-color);\n",
              "      border-left-color: var(--fill-color);\n",
              "    }\n",
              "    20% {\n",
              "      border-color: transparent;\n",
              "      border-left-color: var(--fill-color);\n",
              "      border-top-color: var(--fill-color);\n",
              "    }\n",
              "    30% {\n",
              "      border-color: transparent;\n",
              "      border-left-color: var(--fill-color);\n",
              "      border-top-color: var(--fill-color);\n",
              "      border-right-color: var(--fill-color);\n",
              "    }\n",
              "    40% {\n",
              "      border-color: transparent;\n",
              "      border-right-color: var(--fill-color);\n",
              "      border-top-color: var(--fill-color);\n",
              "    }\n",
              "    60% {\n",
              "      border-color: transparent;\n",
              "      border-right-color: var(--fill-color);\n",
              "    }\n",
              "    80% {\n",
              "      border-color: transparent;\n",
              "      border-right-color: var(--fill-color);\n",
              "      border-bottom-color: var(--fill-color);\n",
              "    }\n",
              "    90% {\n",
              "      border-color: transparent;\n",
              "      border-bottom-color: var(--fill-color);\n",
              "    }\n",
              "  }\n",
              "</style>\n",
              "\n",
              "  <script>\n",
              "    async function quickchart(key) {\n",
              "      const quickchartButtonEl =\n",
              "        document.querySelector('#' + key + ' button');\n",
              "      quickchartButtonEl.disabled = true;  // To prevent multiple clicks.\n",
              "      quickchartButtonEl.classList.add('colab-df-spinner');\n",
              "      try {\n",
              "        const charts = await google.colab.kernel.invokeFunction(\n",
              "            'suggestCharts', [key], {});\n",
              "      } catch (error) {\n",
              "        console.error('Error during call to suggestCharts:', error);\n",
              "      }\n",
              "      quickchartButtonEl.classList.remove('colab-df-spinner');\n",
              "      quickchartButtonEl.classList.add('colab-df-quickchart-complete');\n",
              "    }\n",
              "    (() => {\n",
              "      let quickchartButtonEl =\n",
              "        document.querySelector('#df-e51f3c76-d07e-4512-a91f-e6c27ec4eeec button');\n",
              "      quickchartButtonEl.style.display =\n",
              "        google.colab.kernel.accessAllowed ? 'block' : 'none';\n",
              "    })();\n",
              "  </script>\n",
              "</div>\n",
              "    </div>\n",
              "  </div>\n"
            ],
            "application/vnd.google.colaboratory.intrinsic+json": {
              "type": "dataframe",
              "variable_name": "candidates_df_res"
            }
          },
          "metadata": {},
          "execution_count": 11
        }
      ]
    },
    {
      "cell_type": "code",
      "execution_count": 29,
      "metadata": {
        "id": "fcBntH3Q8szE"
      },
      "outputs": [],
      "source": [
        "# Объединяем признаки кандидатов\n",
        "candidates_df_res = candidates_df_res.merge(user_agg_all, on='user_id', how='left')\n",
        "candidates_df_res = candidates_df_res.merge(item_agg_all, on='item_id', how='left')\n",
        "candidates_df_res = candidates_df_res.merge(\n",
        "    ui_agg_all[['user_id', 'item_id', 'ui_interaction_count', 'ui_avg_watched_pct',\n",
        "                'ui_total_dur_sum', 'ui_ratio_count', 'ui_diff_avg_watched', 'ui_ratio_total_dur']],\n",
        "    on=['user_id', 'item_id'], how='left'\n",
        ")\n",
        "candidates_df_res.fillna(0, inplace=True)\n",
        "\n",
        "# Итоговый набор признаков (10 агрегированных + 3 скора моделей)\n",
        "features = [\n",
        "    \"user_avg_watched_pct\", \"user_interaction_count\",\n",
        "    \"item_avg_watched_pct\", \"item_interaction_count\",\n",
        "    \"ui_interaction_count\", \"ui_avg_watched_pct\",\n",
        "    \"ui_total_dur_sum\", \"ui_ratio_count\",\n",
        "    \"ui_diff_avg_watched\", \"ui_ratio_total_dur\",\n",
        "    \"score_heuristic\", \"score_mf\", \"score_nn\"\n",
        "]"
      ]
    },
    {
      "cell_type": "code",
      "source": [
        "# Инференс финального ранкера: пропускаем кандидатов через бустинг и оставляем топ-k\n",
        "X_candidates = candidates_df_res[features]\n",
        "candidates_df_res['final_score'] = final_ranker.predict_proba(X_candidates)[:, 1]\n",
        "\n",
        "k = 10  # оставляем топ-10 рекомендаций для каждого пользователя\n",
        "final_recommendations = {}\n",
        "for user, group in tqdm(candidates_df_res.groupby('user_id')):\n",
        "    top_k_items = group.sort_values('final_score', ascending=False).head(k)['item_id'].tolist()\n",
        "    final_recommendations[user] = top_k_items"
      ],
      "metadata": {
        "id": "BK6bMCl03A4B",
        "colab": {
          "base_uri": "https://localhost:8080/"
        },
        "outputId": "99b36db8-103d-49c8-aa0b-4d7e3645fadf"
      },
      "execution_count": 32,
      "outputs": [
        {
          "output_type": "stream",
          "name": "stderr",
          "text": [
            "100%|██████████| 190953/190953 [01:38<00:00, 1931.57it/s]\n"
          ]
        }
      ]
    },
    {
      "cell_type": "code",
      "source": [
        "# Вычисление разнообразия (Diversity) и построение графика Diversity(k)\n",
        "# В качестве эмбеддингов для айтемов возьмём латентные факторы из матричной факторизации\n",
        "mf_item_embeddings = {\n",
        "    item: my_matrix_factorization_all.item_factors[\n",
        "        my_matrix_factorization_all.item_to_index[item]\n",
        "    ]\n",
        "    for item in my_matrix_factorization_all.item_ids\n",
        "}\n",
        "\n",
        "def compute_diversity_vectorized(item_list, embeddings):\n",
        "    \"\"\"\n",
        "    Вычисляет Diversity для списка айтемов векторизованно\n",
        "    Если эмбеддинг отсутствует для айтема, он пропускается\n",
        "    Diversity = 1 - (среднее сходство по всем парам)\n",
        "    \"\"\"\n",
        "    if len(item_list) < 2:\n",
        "        return 0.0\n",
        "\n",
        "    # Получаем эмбеддинги для айтемов, пропуская отсутствующие\n",
        "    vectors = [embeddings.get(item) for item in item_list if embeddings.get(item) is not None]\n",
        "    if len(vectors) < 2:\n",
        "        return 0.0\n",
        "    vectors = np.vstack(vectors)  # Форма: (n, dim)\n",
        "\n",
        "    # Вычисляем матрицу косинусного сходства\n",
        "    sim_matrix = cosine_similarity(vectors)\n",
        "    n = sim_matrix.shape[0]\n",
        "    # Извлекаем верхнюю треугольную часть без диагонали\n",
        "    upper_tri_indices = np.triu_indices(n, k=1)\n",
        "    upper_values = sim_matrix[upper_tri_indices]\n",
        "    avg_sim = np.mean(upper_values)\n",
        "    return 1 - avg_sim"
      ],
      "metadata": {
        "id": "JoACUzW03CDd"
      },
      "execution_count": 37,
      "outputs": []
    },
    {
      "cell_type": "code",
      "source": [
        "# Предварительно создаём список групп по пользователям, чтобы знать общее число пользователей\n",
        "user_groups = list(candidates_df_res.groupby('user_id'))\n",
        "\n",
        "diversity_results = {}\n",
        "for k_val in tqdm(range(1, 21, 3), desc=\"Расчёт Diversity для разных k\"):\n",
        "    diversity_per_user = []\n",
        "    # Вложенный tqdm для обработки пользователей\n",
        "    for user, group in user_groups:\n",
        "        top_k_items = group.sort_values('final_score', ascending=False).head(k_val)['item_id'].tolist()\n",
        "        diversity_per_user.append(compute_diversity_vectorized(top_k_items, mf_item_embeddings))\n",
        "    diversity_results[k_val] = np.mean(diversity_per_user)"
      ],
      "metadata": {
        "colab": {
          "base_uri": "https://localhost:8080/"
        },
        "id": "JmO8RQl-ZC7k",
        "outputId": "2ff99f1b-7643-43ff-84af-3b160859afc0"
      },
      "execution_count": 39,
      "outputs": [
        {
          "output_type": "stream",
          "name": "stderr",
          "text": [
            "Расчёт Diversity для разных k: 100%|██████████| 7/7 [14:05<00:00, 120.77s/it]\n"
          ]
        }
      ]
    },
    {
      "cell_type": "code",
      "source": [
        "# Построение графика Diversity(k)\n",
        "plt.figure(figsize=(8, 5))\n",
        "plt.plot(list(diversity_results.keys()), list(diversity_results.values()), marker='o')\n",
        "plt.xlabel('k')\n",
        "plt.ylabel('Diversity')\n",
        "plt.title('Diversity vs k')\n",
        "plt.grid(True)\n",
        "plt.show()"
      ],
      "metadata": {
        "id": "q3Grqbs03Bkq",
        "colab": {
          "base_uri": "https://localhost:8080/",
          "height": 487
        },
        "outputId": "9e7e8115-6cb7-42c2-de21-0d4d50c22e89"
      },
      "execution_count": 40,
      "outputs": [
        {
          "output_type": "display_data",
          "data": {
            "text/plain": [
              "<Figure size 800x500 with 1 Axes>"
            ],
            "image/png": "[encoded data removed]"
          },
          "metadata": {}
        }
      ]
    },
    {
      "cell_type": "markdown",
      "source": [
        "При значениях k, превышающих 5–7, метрика Diversity достигает устойчивых значений, что говорит о том, что добавление дополнительных айтемов не приводит к значительному снижению разнообразия рекомендаций\n",
        "\n",
        "Высокие значения Diversity (в диапазоне 0.8–0.9) для оптимальных значений k свидетельствуют о том, что система способна выдавать рекомендации, которые существенно различаются друг от друга, что является положительным признаком с точки зрения пользовательского опыта и предотвращения эффекта «фильтровых пузырей»"
      ],
      "metadata": {
        "id": "JPbUflS5gZt_"
      }
    }
  ],
  "metadata": {
    "kernelspec": {
      "display_name": "Python 3",
      "name": "python3"
    },
    "language_info": {
      "codemirror_mode": {
        "name": "ipython",
        "version": 3
      },
      "file_extension": ".py",
      "mimetype": "text/x-python",
      "name": "python",
      "nbconvert_exporter": "python",
      "pygments_lexer": "ipython3",
      "version": "3.12.3"
    },
    "colab": {
      "provenance": [],
      "gpuType": "T4"
    },
    "accelerator": "GPU"
  },
  "nbformat": 4,
  "nbformat_minor": 0
}